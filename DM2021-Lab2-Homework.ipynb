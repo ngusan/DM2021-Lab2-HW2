{
 "cells": [
  {
   "cell_type": "markdown",
   "metadata": {},
   "source": [
    "### Student Information\n",
    "Name:吳余山\n",
    "\n",
    "Student ID:110033408\n",
    "\n",
    "GitHub ID:ngusan\n",
    "\n",
    "Kaggle name:ng\n",
    "\n",
    "Kaggle private scoreboard snapshot:52/95\n",
    "\n",
    "[Snapshot](img/pic0.png)"
   ]
  },
  {
   "cell_type": "markdown",
   "metadata": {},
   "source": [
    "---"
   ]
  },
  {
   "cell_type": "markdown",
   "metadata": {},
   "source": [
    "### Instructions"
   ]
  },
  {
   "cell_type": "markdown",
   "metadata": {},
   "source": [
    "1. First: __This part is worth 30% of your grade.__ Do the **take home** exercises in the [DM2021-Lab2-master Repo](https://github.com/fhcalderon87/DM2021-Lab2-master). You may need to copy some cells from the Lab notebook to this notebook. \n",
    "\n",
    "\n",
    "2. Second: __This part is worth 30% of your grade.__ Participate in the in-class [Kaggle Competition](https://www.kaggle.com/c/dm2021-lab2-hw2/) regarding Emotion Recognition on Twitter. The scoring will be given according to your place in the Private Leaderboard ranking: \n",
    "    - **Bottom 40%**: Get 20% of the 30% available for this section.\n",
    "\n",
    "    - **Top 41% - 100%**: Get (60-x)/6 + 20 points, where x is your ranking in the leaderboard (ie. If you rank 3rd your score will be (60-3)/6 + 20 = 29.5% out of 30%)   \n",
    "    Submit your last submission __BEFORE the deadline (Dec. 24th 11:59 pm, Friday)__. Make sure to take a screenshot of your position at the end of the competition and store it as '''pic0.png''' under the **img** folder of this repository and rerun the cell **Student Information**.\n",
    "    \n",
    "\n",
    "3. Third: __This part is worth 30% of your grade.__ A report of your work developping the model for the competition (You can use code and comment it). This report should include what your preprocessing steps, the feature engineering steps and an explanation of your model. You can also mention different things you tried and insights you gained. \n",
    "\n",
    "\n",
    "4. Fourth: __This part is worth 10% of your grade.__ It's hard for us to follow if your code is messy :'(, so please **tidy up your notebook** and **add minimal comments where needed**.\n",
    "\n",
    "\n",
    "Upload your files to your repository then submit the link to it on the corresponding e-learn assignment.\n",
    "\n",
    "Make sure to commit and save your changes to your repository __BEFORE the deadline (Dec. 29th 11:59 pm, Wednesday)__. "
   ]
  },
  {
   "cell_type": "code",
   "execution_count": 1,
   "metadata": {},
   "outputs": [],
   "source": [
    "### Begin Assignment Here"
   ]
  },
  {
   "cell_type": "code",
   "execution_count": 2,
   "metadata": {},
   "outputs": [],
   "source": [
    "import pandas as pd\n",
    "\n",
    "### training data\n",
    "anger_train = pd.read_csv(\"data/semeval/train/anger-ratings-0to1.train.txt\",\n",
    "                         sep=\"\\t\", header=None,names=[\"id\", \"text\", \"emotion\", \"intensity\"])\n",
    "sadness_train = pd.read_csv(\"data/semeval/train/sadness-ratings-0to1.train.txt\",\n",
    "                         sep=\"\\t\", header=None, names=[\"id\", \"text\", \"emotion\", \"intensity\"])\n",
    "fear_train = pd.read_csv(\"data/semeval/train/fear-ratings-0to1.train.txt\",\n",
    "                         sep=\"\\t\", header=None, names=[\"id\", \"text\", \"emotion\", \"intensity\"])\n",
    "joy_train = pd.read_csv(\"data/semeval/train/joy-ratings-0to1.train.txt\",\n",
    "                         sep=\"\\t\", header=None, names=[\"id\", \"text\", \"emotion\", \"intensity\"])"
   ]
  },
  {
   "cell_type": "code",
   "execution_count": 3,
   "metadata": {},
   "outputs": [],
   "source": [
    "# combine 4 sub-dataset\n",
    "train_df = pd.concat([anger_train, fear_train, joy_train, sadness_train], ignore_index=True)"
   ]
  },
  {
   "cell_type": "code",
   "execution_count": 4,
   "metadata": {},
   "outputs": [
    {
     "data": {
      "text/html": [
       "<div>\n",
       "<style scoped>\n",
       "    .dataframe tbody tr th:only-of-type {\n",
       "        vertical-align: middle;\n",
       "    }\n",
       "\n",
       "    .dataframe tbody tr th {\n",
       "        vertical-align: top;\n",
       "    }\n",
       "\n",
       "    .dataframe thead th {\n",
       "        text-align: right;\n",
       "    }\n",
       "</style>\n",
       "<table border=\"1\" class=\"dataframe\">\n",
       "  <thead>\n",
       "    <tr style=\"text-align: right;\">\n",
       "      <th></th>\n",
       "      <th>id</th>\n",
       "      <th>text</th>\n",
       "      <th>emotion</th>\n",
       "      <th>intensity</th>\n",
       "    </tr>\n",
       "  </thead>\n",
       "  <tbody>\n",
       "    <tr>\n",
       "      <th>0</th>\n",
       "      <td>10000</td>\n",
       "      <td>How the fu*k! Who the heck! moved my fridge!.....</td>\n",
       "      <td>anger</td>\n",
       "      <td>0.938</td>\n",
       "    </tr>\n",
       "    <tr>\n",
       "      <th>1</th>\n",
       "      <td>10001</td>\n",
       "      <td>So my Indian Uber driver just called someone t...</td>\n",
       "      <td>anger</td>\n",
       "      <td>0.896</td>\n",
       "    </tr>\n",
       "    <tr>\n",
       "      <th>2</th>\n",
       "      <td>10002</td>\n",
       "      <td>@DPD_UK I asked for my parcel to be delivered ...</td>\n",
       "      <td>anger</td>\n",
       "      <td>0.896</td>\n",
       "    </tr>\n",
       "    <tr>\n",
       "      <th>3</th>\n",
       "      <td>10003</td>\n",
       "      <td>so ef whichever butt wipe pulled the fire alar...</td>\n",
       "      <td>anger</td>\n",
       "      <td>0.896</td>\n",
       "    </tr>\n",
       "    <tr>\n",
       "      <th>4</th>\n",
       "      <td>10004</td>\n",
       "      <td>Don't join @BTCare they put the phone down on ...</td>\n",
       "      <td>anger</td>\n",
       "      <td>0.896</td>\n",
       "    </tr>\n",
       "  </tbody>\n",
       "</table>\n",
       "</div>"
      ],
      "text/plain": [
       "      id                                               text emotion  intensity\n",
       "0  10000  How the fu*k! Who the heck! moved my fridge!.....   anger      0.938\n",
       "1  10001  So my Indian Uber driver just called someone t...   anger      0.896\n",
       "2  10002  @DPD_UK I asked for my parcel to be delivered ...   anger      0.896\n",
       "3  10003  so ef whichever butt wipe pulled the fire alar...   anger      0.896\n",
       "4  10004  Don't join @BTCare they put the phone down on ...   anger      0.896"
      ]
     },
     "execution_count": 4,
     "metadata": {},
     "output_type": "execute_result"
    }
   ],
   "source": [
    "### testing data\n",
    "anger_test = pd.read_csv(\"data/semeval/dev/anger-ratings-0to1.dev.gold.txt\",\n",
    "                         sep=\"\\t\", header=None, names=[\"id\", \"text\", \"emotion\", \"intensity\"])\n",
    "sadness_test = pd.read_csv(\"data/semeval/dev/sadness-ratings-0to1.dev.gold.txt\",\n",
    "                         sep=\"\\t\", header=None, names=[\"id\", \"text\", \"emotion\", \"intensity\"])\n",
    "fear_test = pd.read_csv(\"data/semeval/dev/fear-ratings-0to1.dev.gold.txt\",\n",
    "                         sep=\"\\t\", header=None, names=[\"id\", \"text\", \"emotion\", \"intensity\"])\n",
    "joy_test = pd.read_csv(\"data/semeval/dev/joy-ratings-0to1.dev.gold.txt\",\n",
    "                         sep=\"\\t\", header=None, names=[\"id\", \"text\", \"emotion\", \"intensity\"])\n",
    "\n",
    "# combine 4 sub-dataset\n",
    "test_df = pd.concat([anger_test, fear_test, joy_test, sadness_test], ignore_index=True)\n",
    "train_df.head()"
   ]
  },
  {
   "cell_type": "code",
   "execution_count": 5,
   "metadata": {},
   "outputs": [],
   "source": [
    "# shuffle dataset\n",
    "train_df = train_df.sample(frac=1)\n",
    "test_df = test_df.sample(frac=1)"
   ]
  },
  {
   "cell_type": "code",
   "execution_count": 6,
   "metadata": {
    "scrolled": true
   },
   "outputs": [
    {
     "name": "stdout",
     "output_type": "stream",
     "text": [
      "Shape of Training df:  (3613, 4)\n",
      "Shape of Testing df:  (347, 4)\n"
     ]
    }
   ],
   "source": [
    "print(\"Shape of Training df: \", train_df.shape)\n",
    "print(\"Shape of Testing df: \", test_df.shape)"
   ]
  },
  {
   "cell_type": "markdown",
   "metadata": {},
   "source": [
    "** >>> Exercise 1 (Take home): **\n",
    "Plot word frequency for Top 30 words in both train and test dataset. (Hint: refer to DM lab 1)"
   ]
  },
  {
   "cell_type": "code",
   "execution_count": 7,
   "metadata": {},
   "outputs": [],
   "source": [
    "# import packages\n",
    "from sklearn.feature_extraction.text import CountVectorizer\n",
    "import matplotlib.pyplot as plt\n",
    "%matplotlib inline\n",
    "import seaborn as sns"
   ]
  },
  {
   "cell_type": "code",
   "execution_count": 8,
   "metadata": {},
   "outputs": [],
   "source": [
    "# Vectorize train data\n",
    "train_count_vect = CountVectorizer()\n",
    "train_count = train_count_vect.fit_transform(train_df.text)\n"
   ]
  },
  {
   "cell_type": "code",
   "execution_count": 9,
   "metadata": {},
   "outputs": [],
   "source": [
    "# Calculate frequencies\n",
    "train_term_frequencies = {}\n",
    "for j in range(0,train_count.shape[1]):\n",
    "    train_term_frequencies[train_count_vect.get_feature_names()[j]] = sum(train_count[:,j].toarray())"
   ]
  },
  {
   "cell_type": "code",
   "execution_count": 10,
   "metadata": {},
   "outputs": [
    {
     "data": {
      "image/png": "[encoded data removed]",
      "text/plain": [
       "<Figure size 1440x720 with 1 Axes>"
      ]
     },
     "metadata": {
      "needs_background": "light"
     },
     "output_type": "display_data"
    }
   ],
   "source": [
    "# plot\n",
    "train_sum_freq_df = pd.DataFrame(train_term_frequencies)\n",
    "train_sum_freq_df = train_sum_freq_df.sort_values(by = 0, axis = 1, ascending = False)\n",
    "train_sum_freq_df = train_sum_freq_df[train_sum_freq_df.columns[:30]].copy()\n",
    "plt.subplots(figsize=(20, 10))\n",
    "ax = sns.barplot(data=train_sum_freq_df)"
   ]
  },
  {
   "cell_type": "code",
   "execution_count": 11,
   "metadata": {},
   "outputs": [
    {
     "data": {
      "image/png": "[encoded data removed]",
      "text/plain": [
       "<Figure size 1440x720 with 1 Axes>"
      ]
     },
     "metadata": {
      "needs_background": "light"
     },
     "output_type": "display_data"
    }
   ],
   "source": [
    "# Vectorize train data\n",
    "test_count_vect = CountVectorizer()\n",
    "test_count = test_count_vect.fit_transform(test_df.text)\n",
    "# Calculate frequencies\n",
    "test_term_frequencies = {}\n",
    "for j in range(0,test_count.shape[1]):\n",
    "    test_term_frequencies[test_count_vect.get_feature_names()[j]] = sum(test_count[:,j].toarray())\n",
    "# plot\n",
    "test_sum_freq_df = pd.DataFrame(test_term_frequencies)\n",
    "test_sum_freq_df = test_sum_freq_df.sort_values(by = 0, axis = 1, ascending = False)\n",
    "test_sum_freq_df = test_sum_freq_df[test_sum_freq_df.columns[:30]].copy()\n",
    "plt.subplots(figsize=(20, 10))\n",
    "ax = sns.barplot(data=test_sum_freq_df)"
   ]
  },
  {
   "cell_type": "markdown",
   "metadata": {},
   "source": [
    "Exercise 2\n",
    "Generate an embedding using the TF-IDF vectorizer instead of th BOW one with 1000 features and show the feature names for features [100:110]"
   ]
  },
  {
   "cell_type": "code",
   "execution_count": 12,
   "metadata": {},
   "outputs": [],
   "source": [
    "from sklearn.feature_extraction.text import TfidfVectorizer"
   ]
  },
  {
   "cell_type": "code",
   "execution_count": 13,
   "metadata": {},
   "outputs": [],
   "source": [
    "# init TfidfVectorizer\n",
    "tfidf_vectorizer = TfidfVectorizer(max_features=1000)"
   ]
  },
  {
   "cell_type": "code",
   "execution_count": 14,
   "metadata": {},
   "outputs": [],
   "source": [
    "train_data = tfidf_vectorizer.fit_transform(train_df['text'])"
   ]
  },
  {
   "cell_type": "code",
   "execution_count": 15,
   "metadata": {},
   "outputs": [
    {
     "data": {
      "text/plain": [
       "array([[0., 0., 0., ..., 0., 0., 0.],\n",
       "       [0., 0., 0., ..., 0., 0., 0.],\n",
       "       [0., 0., 0., ..., 0., 0., 0.],\n",
       "       ...,\n",
       "       [0., 0., 0., ..., 0., 0., 0.],\n",
       "       [0., 0., 0., ..., 0., 0., 0.],\n",
       "       [0., 0., 0., ..., 0., 0., 0.]])"
      ]
     },
     "execution_count": 15,
     "metadata": {},
     "output_type": "execute_result"
    }
   ],
   "source": [
    "train_data.toarray()"
   ]
  },
  {
   "cell_type": "code",
   "execution_count": 16,
   "metadata": {},
   "outputs": [
    {
     "data": {
      "text/plain": [
       "['bitter',\n",
       " 'black',\n",
       " 'blacks',\n",
       " 'blame',\n",
       " 'blessed',\n",
       " 'blood',\n",
       " 'bloody',\n",
       " 'blues',\n",
       " 'body',\n",
       " 'boiling']"
      ]
     },
     "execution_count": 16,
     "metadata": {},
     "output_type": "execute_result"
    }
   ],
   "source": [
    "tfidf_vectorizer.get_feature_names()[100:110]"
   ]
  },
  {
   "cell_type": "code",
   "execution_count": 17,
   "metadata": {},
   "outputs": [
    {
     "data": {
      "text/plain": [
       "['bout',\n",
       " 'box',\n",
       " 'boy',\n",
       " 'brace',\n",
       " 'braved',\n",
       " 'bread',\n",
       " 'breezy',\n",
       " 'brewing',\n",
       " 'brian',\n",
       " 'brilliant']"
      ]
     },
     "execution_count": 17,
     "metadata": {},
     "output_type": "execute_result"
    }
   ],
   "source": [
    "test_data = tfidf_vectorizer.fit_transform(test_df['text'])\n",
    "tfidf_vectorizer.get_feature_names()[100:110]"
   ]
  },
  {
   "cell_type": "markdown",
   "metadata": {},
   "source": [
    "Exercise 3\n",
    "Can you interpret the results above? What do they mean?\n",
    "Ans：\n",
    "Horizontal axis means real labels\n",
    "Vertical axis means predict labels\n",
    "so the diagonal means predict Correctly\n",
    "and the colors means the range of corrections \n",
    "the more correct the darker\n",
    "but we can see that the recall and the Precision is just around 60% so is not really well\n",
    "although it is not really well, we also can see that the features of the text on specific emotion may have some similarity with others' emtions, and make the model to predict to the wrong result."
   ]
  },
  {
   "cell_type": "markdown",
   "metadata": {},
   "source": [
    "2. Feature engineering-BOW\n"
   ]
  },
  {
   "cell_type": "code",
   "execution_count": 18,
   "metadata": {},
   "outputs": [],
   "source": [
    "from sklearn.feature_extraction.text import CountVectorizer\n",
    "# build analyzers (bag-of-words)\n",
    "BOW_vectorizer = CountVectorizer() "
   ]
  },
  {
   "cell_type": "code",
   "execution_count": 19,
   "metadata": {},
   "outputs": [
    {
     "data": {
      "text/plain": [
       "CountVectorizer(analyzer='word', binary=False, decode_error='strict',\n",
       "                dtype=<class 'numpy.int64'>, encoding='utf-8', input='content',\n",
       "                lowercase=True, max_df=1.0, max_features=None, min_df=1,\n",
       "                ngram_range=(1, 1), preprocessor=None, stop_words=None,\n",
       "                strip_accents=None, token_pattern='(?u)\\\\b\\\\w\\\\w+\\\\b',\n",
       "                tokenizer=None, vocabulary=None)"
      ]
     },
     "execution_count": 19,
     "metadata": {},
     "output_type": "execute_result"
    }
   ],
   "source": [
    "# 1. Learn a vocabulary dictionary of all tokens in the raw documents.\n",
    "BOW_vectorizer.fit(train_df['text'])"
   ]
  },
  {
   "cell_type": "code",
   "execution_count": 20,
   "metadata": {},
   "outputs": [],
   "source": [
    "# 2. Transform documents to document-term matrix.\n",
    "train_data_BOW_features = BOW_vectorizer.transform(train_df['text'])\n",
    "test_data_BOW_features = BOW_vectorizer.transform(test_df['text'])"
   ]
  },
  {
   "cell_type": "code",
   "execution_count": 21,
   "metadata": {},
   "outputs": [
    {
     "data": {
      "text/plain": [
       "scipy.sparse.csr.csr_matrix"
      ]
     },
     "execution_count": 21,
     "metadata": {},
     "output_type": "execute_result"
    }
   ],
   "source": [
    "# check the result\n",
    "train_data_BOW_features\n",
    "type(train_data_BOW_features)"
   ]
  },
  {
   "cell_type": "code",
   "execution_count": 22,
   "metadata": {},
   "outputs": [
    {
     "data": {
      "text/plain": [
       "array([[0, 0, 0, ..., 0, 0, 0],\n",
       "       [0, 0, 0, ..., 0, 0, 0],\n",
       "       [0, 0, 0, ..., 0, 0, 0],\n",
       "       ...,\n",
       "       [0, 0, 0, ..., 0, 0, 0],\n",
       "       [0, 0, 0, ..., 0, 0, 0],\n",
       "       [0, 0, 0, ..., 0, 0, 0]])"
      ]
     },
     "execution_count": 22,
     "metadata": {},
     "output_type": "execute_result"
    }
   ],
   "source": [
    "# add .toarray() to show\n",
    "train_data_BOW_features.toarray()"
   ]
  },
  {
   "cell_type": "code",
   "execution_count": 23,
   "metadata": {},
   "outputs": [
    {
     "data": {
      "text/plain": [
       "(3613, 10115)"
      ]
     },
     "execution_count": 23,
     "metadata": {},
     "output_type": "execute_result"
    }
   ],
   "source": [
    "# check the dimension\n",
    "train_data_BOW_features.shape"
   ]
  },
  {
   "cell_type": "code",
   "execution_count": 24,
   "metadata": {},
   "outputs": [
    {
     "data": {
      "text/plain": [
       "False"
      ]
     },
     "execution_count": 24,
     "metadata": {},
     "output_type": "execute_result"
    }
   ],
   "source": [
    "# observe some feature names\n",
    "feature_names = BOW_vectorizer.get_feature_names()\n",
    "feature_names[100:110]\n",
    "\"😂\" in feature_names\n"
   ]
  },
  {
   "cell_type": "code",
   "execution_count": 25,
   "metadata": {},
   "outputs": [],
   "source": [
    "import nltk\n",
    "\n",
    "# build analyzers (bag-of-words)\n",
    "BOW_500 = CountVectorizer(max_features=500, tokenizer=nltk.word_tokenize) "
   ]
  },
  {
   "cell_type": "code",
   "execution_count": 26,
   "metadata": {},
   "outputs": [
    {
     "name": "stderr",
     "output_type": "stream",
     "text": [
      "/Users/ngusan/opt/anaconda3/lib/python3.7/site-packages/sklearn/feature_extraction/text.py:507: UserWarning: The parameter 'token_pattern' will not be used since 'tokenizer' is not None'\n",
      "  warnings.warn(\"The parameter 'token_pattern' will not be used\"\n"
     ]
    }
   ],
   "source": [
    "# apply analyzer to training data\n",
    "BOW_500.fit(train_df['text'])\n",
    "\n",
    "train_data_BOW_features_500 = BOW_500.transform(train_df['text'])"
   ]
  },
  {
   "cell_type": "code",
   "execution_count": 27,
   "metadata": {},
   "outputs": [
    {
     "data": {
      "text/plain": [
       "array([[0, 1, 0, ..., 0, 0, 0],\n",
       "       [0, 0, 0, ..., 0, 0, 0],\n",
       "       [0, 0, 0, ..., 0, 0, 0],\n",
       "       ...,\n",
       "       [0, 2, 0, ..., 0, 0, 0],\n",
       "       [0, 0, 0, ..., 0, 0, 0],\n",
       "       [0, 0, 0, ..., 0, 0, 0]])"
      ]
     },
     "execution_count": 27,
     "metadata": {},
     "output_type": "execute_result"
    }
   ],
   "source": [
    "## check dimension\n",
    "train_data_BOW_features_500.shape\n",
    "train_data_BOW_features_500.toarray()"
   ]
  },
  {
   "cell_type": "code",
   "execution_count": 28,
   "metadata": {},
   "outputs": [
    {
     "data": {
      "text/plain": [
       "True"
      ]
     },
     "execution_count": 28,
     "metadata": {},
     "output_type": "execute_result"
    }
   ],
   "source": [
    "# observe some feature names\n",
    "feature_names_500 = BOW_500.get_feature_names()\n",
    "feature_names_500[100:110]\n",
    "\"😂\" in feature_names_500"
   ]
  },
  {
   "cell_type": "markdown",
   "metadata": {},
   "source": [
    "---\n",
    "### ** >>> Exercise 4 (Take home): **  \n",
    "Build a model using a ```Naive Bayes``` model and train it. What are the testing results? \n",
    "\n",
    "*Reference*: https://scikit-learn.org/stable/modules/generated/sklearn.naive_bayes.MultinomialNB.html"
   ]
  },
  {
   "cell_type": "markdown",
   "metadata": {},
   "source": [
    "---\n",
    "## 3. Model\n",
    "### 3.1 Naive Bayes\n",
    "Using scikit-learn ```MultinomialNB``` performs word frequency and uses these as features to train a model.  "
   ]
  },
  {
   "cell_type": "code",
   "execution_count": 29,
   "metadata": {},
   "outputs": [],
   "source": [
    "from sklearn.naive_bayes import MultinomialNB\n",
    "clf = MultinomialNB()"
   ]
  },
  {
   "cell_type": "markdown",
   "metadata": {},
   "source": [
    "TFIDF"
   ]
  },
  {
   "cell_type": "code",
   "execution_count": 30,
   "metadata": {},
   "outputs": [
    {
     "name": "stdout",
     "output_type": "stream",
     "text": [
      "X_train_bow1.shape:  (3613, 1000)\n",
      "y_train_bow1.shape:  (3613,)\n",
      "X_test_bow1.shape:  (347, 1000)\n",
      "y_test_bow1.shape:  (347,)\n"
     ]
    }
   ],
   "source": [
    "# for a classificaiton problem, you need to provide both training & testing data\n",
    "X_train_TFIDF = train_data\n",
    "y_train_TFIDF = train_df['emotion']\n",
    "\n",
    "X_test_TFIDF = test_data\n",
    "y_test_TFIDF = test_df['emotion']\n",
    "\n",
    "## take a look at data dimension is a good habbit  :)\n",
    "print('X_train_bow1.shape: ', X_train_TFIDF.shape)\n",
    "print('y_train_bow1.shape: ', y_train_TFIDF.shape)\n",
    "print('X_test_bow1.shape: ', X_test_TFIDF.shape)\n",
    "print('y_test_bow1.shape: ', y_test_TFIDF.shape)"
   ]
  },
  {
   "cell_type": "markdown",
   "metadata": {},
   "source": [
    "BOW1"
   ]
  },
  {
   "cell_type": "code",
   "execution_count": 31,
   "metadata": {},
   "outputs": [
    {
     "name": "stdout",
     "output_type": "stream",
     "text": [
      "X_train_bow1.shape:  (3613, 10115)\n",
      "y_train_bow1.shape:  (3613,)\n",
      "X_test_bow1.shape:  (347, 10115)\n",
      "y_test_bow1.shape:  (347,)\n"
     ]
    }
   ],
   "source": [
    "# for a classificaiton problem, you need to provide both training & testing data\n",
    "X_train_bow1 = train_data_BOW_features\n",
    "y_train_bow1 = train_df['emotion']\n",
    "\n",
    "X_test_bow1 = test_data_BOW_features\n",
    "y_test_bow1 = test_df['emotion']\n",
    "\n",
    "## take a look at data dimension is a good habbit  :)\n",
    "print('X_train_bow1.shape: ', X_train_bow1.shape)\n",
    "print('y_train_bow1.shape: ', y_train_bow1.shape)\n",
    "print('X_test_bow1.shape: ', X_test_bow1.shape)\n",
    "print('y_test_bow1.shape: ', y_test_bow1.shape)"
   ]
  },
  {
   "cell_type": "markdown",
   "metadata": {},
   "source": [
    "BOW2"
   ]
  },
  {
   "cell_type": "code",
   "execution_count": 32,
   "metadata": {},
   "outputs": [
    {
     "name": "stdout",
     "output_type": "stream",
     "text": [
      "X_train_bow2.shape:  (3613, 500)\n",
      "y_train_bow2.shape:  (3613,)\n",
      "X_test_bow2.shape:  (347, 500)\n",
      "y_test_bow2.shape:  (347,)\n"
     ]
    }
   ],
   "source": [
    "# for a classificaiton problem, you need to provide both training & testing data\n",
    "X_train_bow2 = BOW_500.transform(train_df['text'])\n",
    "y_train_bow2 = train_df['emotion']\n",
    "\n",
    "X_test_bow2 = BOW_500.transform(test_df['text'])\n",
    "y_test_bow2 = test_df['emotion']\n",
    "\n",
    "## take a look at data dimension is a good habbit  :)\n",
    "print('X_train_bow2.shape: ', X_train_bow2.shape)\n",
    "print('y_train_bow2.shape: ', y_train_bow2.shape)\n",
    "print('X_test_bow2.shape: ', X_test_bow2.shape)\n",
    "print('y_test_bow2.shape: ', y_test_bow2.shape)\n"
   ]
  },
  {
   "cell_type": "markdown",
   "metadata": {},
   "source": [
    "TFIDF"
   ]
  },
  {
   "cell_type": "code",
   "execution_count": 33,
   "metadata": {},
   "outputs": [
    {
     "name": "stdout",
     "output_type": "stream",
     "text": [
      "training accuracy: 0.87\n",
      "testing accuracy: 0.28\n",
      "              precision    recall  f1-score   support\n",
      "\n",
      "       anger       0.27      0.33      0.30        84\n",
      "        fear       0.35      0.35      0.35       110\n",
      "         joy       0.24      0.24      0.24        79\n",
      "     sadness       0.22      0.16      0.19        74\n",
      "\n",
      "    accuracy                           0.28       347\n",
      "   macro avg       0.27      0.27      0.27       347\n",
      "weighted avg       0.28      0.28      0.28       347\n",
      "\n",
      "[[28 22 19 15]\n",
      " [25 39 30 16]\n",
      " [23 26 19 11]\n",
      " [27 24 11 12]]\n"
     ]
    },
    {
     "data": {
      "image/png": "[encoded data removed]",
      "text/plain": [
       "<Figure size 360x360 with 2 Axes>"
      ]
     },
     "metadata": {
      "needs_background": "light"
     },
     "output_type": "display_data"
    }
   ],
   "source": [
    "## build Naive Bayes model\n",
    "TFIDF_model = MultinomialNB()\n",
    "\n",
    "## training!\n",
    "TFIDF_model = TFIDF_model.fit(X_train_TFIDF, y_train_TFIDF)\n",
    "\n",
    "## predict!\n",
    "y_train_pred_TFIDF = TFIDF_model.predict(X_train_TFIDF)\n",
    "y_test_pred_TFIDF = TFIDF_model.predict(X_test_TFIDF)\n",
    "\n",
    "## so we get the pred result\n",
    "y_test_pred_TFIDF[:10]\n",
    "\n",
    "## accuracy\n",
    "\n",
    "from sklearn.metrics import accuracy_score\n",
    "\n",
    "acc_train = accuracy_score(y_true=y_train_TFIDF, y_pred=y_train_pred_TFIDF)\n",
    "acc_test = accuracy_score(y_true=y_test_TFIDF, y_pred=y_test_pred_TFIDF)\n",
    "\n",
    "print('training accuracy: {}'.format(round(acc_train, 2)))\n",
    "print('testing accuracy: {}'.format(round(acc_test, 2)))\n",
    "\n",
    "## precision, recall, f1-score\n",
    "\n",
    "from sklearn.metrics import classification_report\n",
    "\n",
    "print(classification_report(y_true=y_test_TFIDF, y_pred=y_test_pred_TFIDF))\n",
    "\n",
    "#plot confusion matrix\n",
    "\n",
    "from sklearn.metrics import confusion_matrix\n",
    "\n",
    "cm = confusion_matrix(y_true=y_test_TFIDF, y_pred=y_test_pred_TFIDF) \n",
    "print(cm)\n",
    "\n",
    "# Funciton for visualizing confusion_matrix\n",
    "\n",
    "import matplotlib.pyplot as plt\n",
    "import seaborn as sns\n",
    "import numpy as np\n",
    "import itertools\n",
    "\n",
    "def plot_confusion_matrix(cm, classes, title='Confusion matrix',\n",
    "                          cmap=sns.cubehelix_palette(as_cmap=True)):\n",
    "    \"\"\"\n",
    "    This function is modified from: \n",
    "    http://scikit-learn.org/stable/auto_examples/model_selection/plot_confusion_matrix.html\n",
    "    \"\"\"\n",
    "    classes.sort()\n",
    "    tick_marks = np.arange(len(classes))    \n",
    "    \n",
    "    fig, ax = plt.subplots(figsize=(5,5))\n",
    "    im = ax.imshow(cm, interpolation='nearest', cmap=cmap)\n",
    "    ax.figure.colorbar(im, ax=ax)\n",
    "    ax.set(xticks=np.arange(cm.shape[1]),\n",
    "           yticks=np.arange(cm.shape[0]),\n",
    "           xticklabels = classes,\n",
    "           yticklabels = classes,\n",
    "           title = title,\n",
    "           xlabel = 'True label',\n",
    "           ylabel = 'Predicted label')\n",
    "\n",
    "    fmt = 'd'\n",
    "    thresh = cm.max() / 2.\n",
    "    for i, j in itertools.product(range(cm.shape[0]), range(cm.shape[1])):\n",
    "        plt.text(j, i, format(cm[i, j], fmt), horizontalalignment=\"center\", color=\"white\" if cm[i, j] > thresh else \"black\")\n",
    "    ylim_top = len(classes) - 0.5\n",
    "    plt.ylim([ylim_top, -.5])\n",
    "    plt.tight_layout()\n",
    "    plt.show()\n",
    "    \n",
    "# plot confusion matrix\n",
    "my_tags = ['anger', 'fear', 'joy', 'sadness']\n",
    "plot_confusion_matrix(cm, classes=my_tags, title='Confusion matrix')"
   ]
  },
  {
   "cell_type": "markdown",
   "metadata": {},
   "source": [
    "BOW1"
   ]
  },
  {
   "cell_type": "code",
   "execution_count": 34,
   "metadata": {},
   "outputs": [
    {
     "name": "stdout",
     "output_type": "stream",
     "text": [
      "training accuracy: 0.97\n",
      "testing accuracy: 0.77\n",
      "              precision    recall  f1-score   support\n",
      "\n",
      "       anger       0.82      0.71      0.76        84\n",
      "        fear       0.69      0.86      0.77       110\n",
      "         joy       0.89      0.73      0.81        79\n",
      "     sadness       0.76      0.74      0.75        74\n",
      "\n",
      "    accuracy                           0.77       347\n",
      "   macro avg       0.79      0.76      0.77       347\n",
      "weighted avg       0.78      0.77      0.77       347\n",
      "\n",
      "[[60 15  3  6]\n",
      " [ 6 95  1  8]\n",
      " [ 4 14 58  3]\n",
      " [ 3 13  3 55]]\n"
     ]
    },
    {
     "data": {
      "image/png": "[encoded data removed]",
      "text/plain": [
       "<Figure size 360x360 with 2 Axes>"
      ]
     },
     "metadata": {
      "needs_background": "light"
     },
     "output_type": "display_data"
    }
   ],
   "source": [
    "## build Naive Bayes model\n",
    "BOW1_model = MultinomialNB()\n",
    "\n",
    "## training!\n",
    "BOW1_model = BOW1_model.fit(X_train_bow1, y_train_bow1)\n",
    "\n",
    "## predict!\n",
    "y_train_pred_bow1 = BOW1_model.predict(X_train_bow1)\n",
    "y_test_pred_bow1 = BOW1_model.predict(X_test_bow1)\n",
    "\n",
    "## so we get the pred result\n",
    "y_test_pred_bow1[:10]\n",
    "\n",
    "## accuracy\n",
    "\n",
    "acc_train = accuracy_score(y_true=y_train_bow1, y_pred=y_train_pred_bow1)\n",
    "acc_test = accuracy_score(y_true=y_test_bow1, y_pred=y_test_pred_bow1)\n",
    "\n",
    "print('training accuracy: {}'.format(round(acc_train, 2)))\n",
    "print('testing accuracy: {}'.format(round(acc_test, 2)))\n",
    "\n",
    "## precision, recall, f1-score\n",
    "\n",
    "print(classification_report(y_true=y_test_bow1, y_pred=y_test_pred_bow1))\n",
    "\n",
    "#plot confusion matrix\n",
    "\n",
    "cm = confusion_matrix(y_true=y_test_bow1, y_pred=y_test_pred_bow1) \n",
    "print(cm)\n",
    "\n",
    "# Funciton for visualizing confusion_matrix\n",
    "\n",
    "def plot_confusion_matrix(cm, classes, title='Confusion matrix',\n",
    "                          cmap=sns.cubehelix_palette(as_cmap=True)):\n",
    "    \"\"\"\n",
    "    This function is modified from: \n",
    "    http://scikit-learn.org/stable/auto_examples/model_selection/plot_confusion_matrix.html\n",
    "    \"\"\"\n",
    "    classes.sort()\n",
    "    tick_marks = np.arange(len(classes))    \n",
    "    \n",
    "    fig, ax = plt.subplots(figsize=(5,5))\n",
    "    im = ax.imshow(cm, interpolation='nearest', cmap=cmap)\n",
    "    ax.figure.colorbar(im, ax=ax)\n",
    "    ax.set(xticks=np.arange(cm.shape[1]),\n",
    "           yticks=np.arange(cm.shape[0]),\n",
    "           xticklabels = classes,\n",
    "           yticklabels = classes,\n",
    "           title = title,\n",
    "           xlabel = 'True label',\n",
    "           ylabel = 'Predicted label')\n",
    "\n",
    "    fmt = 'd'\n",
    "    thresh = cm.max() / 2.\n",
    "    for i, j in itertools.product(range(cm.shape[0]), range(cm.shape[1])):\n",
    "        plt.text(j, i, format(cm[i, j], fmt), horizontalalignment=\"center\", color=\"white\" if cm[i, j] > thresh else \"black\")\n",
    "    ylim_top = len(classes) - 0.5\n",
    "    plt.ylim([ylim_top, -.5])\n",
    "    plt.tight_layout()\n",
    "    plt.show()\n",
    "    \n",
    "# plot confusion matrix\n",
    "my_tags = ['anger', 'fear', 'joy', 'sadness']\n",
    "plot_confusion_matrix(cm, classes=my_tags, title='Confusion matrix')"
   ]
  },
  {
   "cell_type": "markdown",
   "metadata": {},
   "source": [
    "BOW2"
   ]
  },
  {
   "cell_type": "code",
   "execution_count": 35,
   "metadata": {},
   "outputs": [
    {
     "name": "stdout",
     "output_type": "stream",
     "text": [
      "training accuracy: 0.79\n",
      "testing accuracy: 0.72\n",
      "              precision    recall  f1-score   support\n",
      "\n",
      "       anger       0.71      0.65      0.68        84\n",
      "        fear       0.74      0.83      0.78       110\n",
      "         joy       0.76      0.71      0.73        79\n",
      "     sadness       0.65      0.64      0.64        74\n",
      "\n",
      "    accuracy                           0.72       347\n",
      "   macro avg       0.71      0.71      0.71       347\n",
      "weighted avg       0.72      0.72      0.72       347\n",
      "\n",
      "[[55 14  5 10]\n",
      " [ 6 91  5  8]\n",
      " [ 9  7 56  7]\n",
      " [ 8 11  8 47]]\n"
     ]
    },
    {
     "data": {
      "image/png": "[encoded data removed]",
      "text/plain": [
       "<Figure size 360x360 with 2 Axes>"
      ]
     },
     "metadata": {
      "needs_background": "light"
     },
     "output_type": "display_data"
    }
   ],
   "source": [
    "## build Naive Bayes model\n",
    "BOW2_model = MultinomialNB()\n",
    "\n",
    "## training!\n",
    "BOW2_model = BOW2_model.fit(X_train_bow2, y_train_bow2)\n",
    "\n",
    "## predict!\n",
    "y_train_pred_bow2 = BOW2_model.predict(X_train_bow2)\n",
    "y_test_pred_bow2 = BOW2_model.predict(X_test_bow2)\n",
    "\n",
    "## so we get the pred result\n",
    "y_test_pred_bow2[:10]\n",
    "\n",
    "## accuracy\n",
    "\n",
    "acc_train = accuracy_score(y_true=y_train_bow2, y_pred=y_train_pred_bow2)\n",
    "acc_test = accuracy_score(y_true=y_test_bow2, y_pred=y_test_pred_bow2)\n",
    "\n",
    "print('training accuracy: {}'.format(round(acc_train, 2)))\n",
    "print('testing accuracy: {}'.format(round(acc_test, 2)))\n",
    "\n",
    "## precision, recall, f1-score\n",
    "\n",
    "print(classification_report(y_true=y_test_bow2, y_pred=y_test_pred_bow2))\n",
    "\n",
    "#plot confusion matrix\n",
    "\n",
    "cm = confusion_matrix(y_true=y_test_bow2, y_pred=y_test_pred_bow2) \n",
    "print(cm)\n",
    "\n",
    "# Funciton for visualizing confusion_matrix\n",
    "\n",
    "def plot_confusion_matrix(cm, classes, title='Confusion matrix',\n",
    "                          cmap=sns.cubehelix_palette(as_cmap=True)):\n",
    "    \"\"\"\n",
    "    This function is modified from: \n",
    "    http://scikit-learn.org/stable/auto_examples/model_selection/plot_confusion_matrix.html\n",
    "    \"\"\"\n",
    "    classes.sort()\n",
    "    tick_marks = np.arange(len(classes))    \n",
    "    \n",
    "    fig, ax = plt.subplots(figsize=(5,5))\n",
    "    im = ax.imshow(cm, interpolation='nearest', cmap=cmap)\n",
    "    ax.figure.colorbar(im, ax=ax)\n",
    "    ax.set(xticks=np.arange(cm.shape[1]),\n",
    "           yticks=np.arange(cm.shape[0]),\n",
    "           xticklabels = classes,\n",
    "           yticklabels = classes,\n",
    "           title = title,\n",
    "           xlabel = 'True label',\n",
    "           ylabel = 'Predicted label')\n",
    "\n",
    "    fmt = 'd'\n",
    "    thresh = cm.max() / 2.\n",
    "    for i, j in itertools.product(range(cm.shape[0]), range(cm.shape[1])):\n",
    "        plt.text(j, i, format(cm[i, j], fmt), horizontalalignment=\"center\", color=\"white\" if cm[i, j] > thresh else \"black\")\n",
    "    ylim_top = len(classes) - 0.5\n",
    "    plt.ylim([ylim_top, -.5])\n",
    "    plt.tight_layout()\n",
    "    plt.show()\n",
    "    \n",
    "# plot confusion matrix\n",
    "my_tags = ['anger', 'fear', 'joy', 'sadness']\n",
    "plot_confusion_matrix(cm, classes=my_tags, title='Confusion matrix')"
   ]
  },
  {
   "cell_type": "markdown",
   "metadata": {},
   "source": [
    "---\n",
    "### ** >>> Exercise 5 (Take home): **  \n",
    "\n",
    "How do the results from the Naive Bayes model and the Decision Tree model compare? How do you interpret these differences? Use the theoretical background covered in class to try and explain these differences."
   ]
  },
  {
   "cell_type": "markdown",
   "metadata": {},
   "source": [
    "Tree results"
   ]
  },
  {
   "cell_type": "code",
   "execution_count": 36,
   "metadata": {},
   "outputs": [
    {
     "name": "stdout",
     "output_type": "stream",
     "text": [
      "training accuracy: 0.99\n",
      "testing accuracy: 0.64\n",
      "              precision    recall  f1-score   support\n",
      "\n",
      "       anger       0.65      0.65      0.65        84\n",
      "        fear       0.62      0.64      0.63       110\n",
      "         joy       0.67      0.68      0.68        79\n",
      "     sadness       0.61      0.57      0.59        74\n",
      "\n",
      "    accuracy                           0.64       347\n",
      "   macro avg       0.64      0.64      0.64       347\n",
      "weighted avg       0.64      0.64      0.64       347\n",
      "\n",
      "[[55 16  9  4]\n",
      " [15 70  9 16]\n",
      " [ 5 13 54  7]\n",
      " [ 9 14  9 42]]\n"
     ]
    },
    {
     "data": {
      "image/png": "[encoded data removed]",
      "text/plain": [
       "<Figure size 360x360 with 2 Axes>"
      ]
     },
     "metadata": {
      "needs_background": "light"
     },
     "output_type": "display_data"
    }
   ],
   "source": [
    "from sklearn.tree import DecisionTreeClassifier\n",
    "## build Naive Bayes model\n",
    "DT_model = DecisionTreeClassifier(random_state=0)\n",
    "\n",
    "## training!\n",
    "DT_model = DT_model.fit(X_train_bow2, y_train_bow2)\n",
    "\n",
    "## predict!\n",
    "y_train_pred_bow2 = DT_model.predict(X_train_bow2)\n",
    "y_test_pred_bow2 = DT_model.predict(X_test_bow2)\n",
    "\n",
    "## so we get the pred result\n",
    "y_test_pred_bow2[:10]\n",
    "\n",
    "## accuracy\n",
    "\n",
    "acc_train = accuracy_score(y_true=y_train_bow2, y_pred=y_train_pred_bow2)\n",
    "acc_test = accuracy_score(y_true=y_test_bow2, y_pred=y_test_pred_bow2)\n",
    "\n",
    "print('training accuracy: {}'.format(round(acc_train, 2)))\n",
    "print('testing accuracy: {}'.format(round(acc_test, 2)))\n",
    "\n",
    "## precision, recall, f1-score\n",
    "\n",
    "print(classification_report(y_true=y_test_bow2, y_pred=y_test_pred_bow2))\n",
    "\n",
    "#plot confusion matrix\n",
    "\n",
    "cm = confusion_matrix(y_true=y_test_bow2, y_pred=y_test_pred_bow2) \n",
    "print(cm)\n",
    "\n",
    "# Funciton for visualizing confusion_matrix\n",
    "\n",
    "def plot_confusion_matrix(cm, classes, title='Confusion matrix',\n",
    "                          cmap=sns.cubehelix_palette(as_cmap=True)):\n",
    "    \"\"\"\n",
    "    This function is modified from: \n",
    "    http://scikit-learn.org/stable/auto_examples/model_selection/plot_confusion_matrix.html\n",
    "    \"\"\"\n",
    "    classes.sort()\n",
    "    tick_marks = np.arange(len(classes))    \n",
    "    \n",
    "    fig, ax = plt.subplots(figsize=(5,5))\n",
    "    im = ax.imshow(cm, interpolation='nearest', cmap=cmap)\n",
    "    ax.figure.colorbar(im, ax=ax)\n",
    "    ax.set(xticks=np.arange(cm.shape[1]),\n",
    "           yticks=np.arange(cm.shape[0]),\n",
    "           xticklabels = classes,\n",
    "           yticklabels = classes,\n",
    "           title = title,\n",
    "           xlabel = 'True label',\n",
    "           ylabel = 'Predicted label')\n",
    "\n",
    "    fmt = 'd'\n",
    "    thresh = cm.max() / 2.\n",
    "    for i, j in itertools.product(range(cm.shape[0]), range(cm.shape[1])):\n",
    "        plt.text(j, i, format(cm[i, j], fmt), horizontalalignment=\"center\", color=\"white\" if cm[i, j] > thresh else \"black\")\n",
    "    ylim_top = len(classes) - 0.5\n",
    "    plt.ylim([ylim_top, -.5])\n",
    "    plt.tight_layout()\n",
    "    plt.show()\n",
    "    \n",
    "# plot confusion matrix\n",
    "my_tags = ['anger', 'fear', 'joy', 'sadness']\n",
    "plot_confusion_matrix(cm, classes=my_tags, title='Confusion matrix')"
   ]
  },
  {
   "cell_type": "markdown",
   "metadata": {},
   "source": [
    "explain"
   ]
  },
  {
   "cell_type": "markdown",
   "metadata": {},
   "source": [
    "Dicision Tree tends to classify the data by feature separatly,\n",
    "while Naive Bays would combine the distribute of the datas. Because of the characteristic of Naive Bays, the result is more affected by the distribute of the datas. the results shows that Dicision Tree seems to have more average result but the Naive Bay is better than Dicision Tree no matter the accuracy or precision and recall."
   ]
  },
  {
   "cell_type": "markdown",
   "metadata": {},
   "source": [
    "---\n",
    "### ** >>> Exercise 6 (Take home): **  \n",
    "\n",
    "Plot the Training and Validation Accuracy and Loss (different plots), just like the images below (Note: the pictures below are an example from a different model). How to interpret the graphs you got? How are they related to the concept of overfitting/underfitting covered in class?"
   ]
  },
  {
   "cell_type": "code",
   "execution_count": 37,
   "metadata": {},
   "outputs": [
    {
     "name": "stderr",
     "output_type": "stream",
     "text": [
      "Using TensorFlow backend.\n"
     ]
    },
    {
     "name": "stdout",
     "output_type": "stream",
     "text": [
      "X_train.shape:  (3613, 500)\n",
      "y_train.shape:  (3613,)\n",
      "X_test.shape:  (347, 500)\n",
      "y_test.shape:  (347,)\n"
     ]
    }
   ],
   "source": [
    "import keras\n",
    "\n",
    "# standardize name (X, y) \n",
    "X_train = BOW_500.transform(train_df['text'])\n",
    "y_train = train_df['emotion']\n",
    "\n",
    "X_test = BOW_500.transform(test_df['text'])\n",
    "y_test = test_df['emotion']\n",
    "\n",
    "## check dimension is a good habbit \n",
    "print('X_train.shape: ', X_train.shape)\n",
    "print('y_train.shape: ', y_train.shape)\n",
    "print('X_test.shape: ', X_test.shape)\n",
    "print('y_test.shape: ', y_test.shape)"
   ]
  },
  {
   "cell_type": "code",
   "execution_count": 38,
   "metadata": {},
   "outputs": [
    {
     "name": "stdout",
     "output_type": "stream",
     "text": [
      "check label:  ['anger' 'fear' 'joy' 'sadness']\n",
      "\n",
      "## Before convert\n",
      "y_train[0:4]:\n",
      " 1556       fear\n",
      "1375       fear\n",
      "3238    sadness\n",
      "3222    sadness\n",
      "Name: emotion, dtype: object\n",
      "\n",
      "y_train.shape:  (3613,)\n",
      "y_test.shape:  (347,)\n",
      "\n",
      "\n",
      "## After convert\n",
      "y_train[0:4]:\n",
      " [[0. 1. 0. 0.]\n",
      " [0. 1. 0. 0.]\n",
      " [0. 0. 0. 1.]\n",
      " [0. 0. 0. 1.]]\n",
      "\n",
      "y_train.shape:  (3613, 4)\n",
      "y_test.shape:  (347, 4)\n"
     ]
    }
   ],
   "source": [
    "## deal with label (string -> one-hot)\n",
    "\n",
    "from sklearn.preprocessing import LabelEncoder\n",
    "\n",
    "label_encoder = LabelEncoder()\n",
    "label_encoder.fit(y_train)\n",
    "print('check label: ', label_encoder.classes_)\n",
    "print('\\n## Before convert')\n",
    "print('y_train[0:4]:\\n', y_train[0:4])\n",
    "print('\\ny_train.shape: ', y_train.shape)\n",
    "print('y_test.shape: ', y_test.shape)\n",
    "\n",
    "def label_encode(le, labels):\n",
    "    enc = le.transform(labels)\n",
    "    return keras.utils.to_categorical(enc)\n",
    "\n",
    "def label_decode(le, one_hot_label):\n",
    "    dec = np.argmax(one_hot_label, axis=1)\n",
    "    return le.inverse_transform(dec)\n",
    "\n",
    "y_train = label_encode(label_encoder, y_train)\n",
    "y_test = label_encode(label_encoder, y_test)\n",
    "\n",
    "print('\\n\\n## After convert')\n",
    "print('y_train[0:4]:\\n', y_train[0:4])\n",
    "print('\\ny_train.shape: ', y_train.shape)\n",
    "print('y_test.shape: ', y_test.shape)\n",
    "\n"
   ]
  },
  {
   "cell_type": "code",
   "execution_count": 39,
   "metadata": {},
   "outputs": [
    {
     "name": "stdout",
     "output_type": "stream",
     "text": [
      "input_shape:  500\n",
      "output_shape:  4\n"
     ]
    }
   ],
   "source": [
    "# I/O check\n",
    "input_shape = X_train.shape[1]\n",
    "print('input_shape: ', input_shape)\n",
    "\n",
    "output_shape = len(label_encoder.classes_)\n",
    "print('output_shape: ', output_shape)"
   ]
  },
  {
   "cell_type": "code",
   "execution_count": 40,
   "metadata": {},
   "outputs": [
    {
     "name": "stdout",
     "output_type": "stream",
     "text": [
      "Model: \"model_1\"\n",
      "_________________________________________________________________\n",
      "Layer (type)                 Output Shape              Param #   \n",
      "=================================================================\n",
      "input_1 (InputLayer)         (None, 500)               0         \n",
      "_________________________________________________________________\n",
      "dense_1 (Dense)              (None, 64)                32064     \n",
      "_________________________________________________________________\n",
      "re_lu_1 (ReLU)               (None, 64)                0         \n",
      "_________________________________________________________________\n",
      "dense_2 (Dense)              (None, 64)                4160      \n",
      "_________________________________________________________________\n",
      "re_lu_2 (ReLU)               (None, 64)                0         \n",
      "_________________________________________________________________\n",
      "dense_3 (Dense)              (None, 4)                 260       \n",
      "_________________________________________________________________\n",
      "softmax_1 (Softmax)          (None, 4)                 0         \n",
      "=================================================================\n",
      "Total params: 36,484\n",
      "Trainable params: 36,484\n",
      "Non-trainable params: 0\n",
      "_________________________________________________________________\n"
     ]
    }
   ],
   "source": [
    "from keras.models import Model\n",
    "from keras.layers import Input, Dense\n",
    "from keras.layers import ReLU, Softmax\n",
    "\n",
    "# input layer\n",
    "model_input = Input(shape=(input_shape, ))  # 500\n",
    "X = model_input\n",
    "\n",
    "# 1st hidden layer\n",
    "X_W1 = Dense(units=64)(X)  # 64\n",
    "H1 = ReLU()(X_W1)\n",
    "\n",
    "# 2nd hidden layer\n",
    "H1_W2 = Dense(units=64)(H1)  # 64\n",
    "H2 = ReLU()(H1_W2)\n",
    "\n",
    "# output layer\n",
    "H2_W3 = Dense(units=output_shape)(H2)  # 4\n",
    "H3 = Softmax()(H2_W3)\n",
    "\n",
    "model_output = H3\n",
    "\n",
    "# create model\n",
    "model = Model(inputs=[model_input], outputs=[model_output])\n",
    "\n",
    "# loss function & optimizer\n",
    "model.compile(optimizer='adam',\n",
    "              loss='categorical_crossentropy',\n",
    "              metrics=['accuracy'])\n",
    "\n",
    "# show model construction\n",
    "model.summary()"
   ]
  },
  {
   "cell_type": "code",
   "execution_count": 41,
   "metadata": {},
   "outputs": [
    {
     "name": "stdout",
     "output_type": "stream",
     "text": [
      "Train on 3613 samples, validate on 347 samples\n",
      "Epoch 1/25\n",
      "3613/3613 [==============================] - 1s 161us/step - loss: 1.3350 - accuracy: 0.3576 - val_loss: 1.2829 - val_accuracy: 0.3948\n",
      "Epoch 2/25\n",
      "3613/3613 [==============================] - 0s 125us/step - loss: 0.9793 - accuracy: 0.6479 - val_loss: 0.8980 - val_accuracy: 0.6715\n",
      "Epoch 3/25\n",
      "3613/3613 [==============================] - 0s 106us/step - loss: 0.5646 - accuracy: 0.7982 - val_loss: 0.7771 - val_accuracy: 0.7147\n",
      "Epoch 4/25\n",
      "3613/3613 [==============================] - 0s 114us/step - loss: 0.4027 - accuracy: 0.8519 - val_loss: 0.7551 - val_accuracy: 0.7089\n",
      "Epoch 5/25\n",
      "3613/3613 [==============================] - 0s 122us/step - loss: 0.3179 - accuracy: 0.8843 - val_loss: 0.8122 - val_accuracy: 0.7032\n",
      "Epoch 6/25\n",
      "3613/3613 [==============================] - 0s 113us/step - loss: 0.2571 - accuracy: 0.9117 - val_loss: 0.8531 - val_accuracy: 0.6916\n",
      "Epoch 7/25\n",
      "3613/3613 [==============================] - 0s 89us/step - loss: 0.2181 - accuracy: 0.9264 - val_loss: 0.9238 - val_accuracy: 0.6945\n",
      "Epoch 8/25\n",
      "3613/3613 [==============================] - 0s 89us/step - loss: 0.1802 - accuracy: 0.9430 - val_loss: 1.0032 - val_accuracy: 0.6974\n",
      "Epoch 9/25\n",
      "3613/3613 [==============================] - 0s 106us/step - loss: 0.1536 - accuracy: 0.9543 - val_loss: 1.0677 - val_accuracy: 0.6772\n",
      "Epoch 10/25\n",
      "3613/3613 [==============================] - 0s 108us/step - loss: 0.1367 - accuracy: 0.9604 - val_loss: 1.1330 - val_accuracy: 0.6801\n",
      "Epoch 11/25\n",
      "3613/3613 [==============================] - 0s 106us/step - loss: 0.1203 - accuracy: 0.9646 - val_loss: 1.1713 - val_accuracy: 0.6772\n",
      "Epoch 12/25\n",
      "3613/3613 [==============================] - 0s 100us/step - loss: 0.1121 - accuracy: 0.9662 - val_loss: 1.2383 - val_accuracy: 0.6715\n",
      "Epoch 13/25\n",
      "3613/3613 [==============================] - 0s 121us/step - loss: 0.1022 - accuracy: 0.9684 - val_loss: 1.2883 - val_accuracy: 0.6830\n",
      "Epoch 14/25\n",
      "3613/3613 [==============================] - 0s 100us/step - loss: 0.0951 - accuracy: 0.9704 - val_loss: 1.2990 - val_accuracy: 0.6628\n",
      "Epoch 15/25\n",
      "3613/3613 [==============================] - 0s 94us/step - loss: 0.0862 - accuracy: 0.9729 - val_loss: 1.3552 - val_accuracy: 0.6686\n",
      "Epoch 16/25\n",
      "3613/3613 [==============================] - 0s 98us/step - loss: 0.0788 - accuracy: 0.9734 - val_loss: 1.4188 - val_accuracy: 0.6455\n",
      "Epoch 17/25\n",
      "3613/3613 [==============================] - 0s 98us/step - loss: 0.0859 - accuracy: 0.9740 - val_loss: 1.4282 - val_accuracy: 0.6599\n",
      "Epoch 18/25\n",
      "3613/3613 [==============================] - 0s 104us/step - loss: 0.0813 - accuracy: 0.9740 - val_loss: 1.4719 - val_accuracy: 0.6628\n",
      "Epoch 19/25\n",
      "3613/3613 [==============================] - 0s 94us/step - loss: 0.0739 - accuracy: 0.9768 - val_loss: 1.5002 - val_accuracy: 0.6657\n",
      "Epoch 20/25\n",
      "3613/3613 [==============================] - 0s 119us/step - loss: 0.0732 - accuracy: 0.9759 - val_loss: 1.5578 - val_accuracy: 0.6484\n",
      "Epoch 21/25\n",
      "3613/3613 [==============================] - 0s 114us/step - loss: 0.0675 - accuracy: 0.9756 - val_loss: 1.6142 - val_accuracy: 0.6484\n",
      "Epoch 22/25\n",
      "3613/3613 [==============================] - 0s 94us/step - loss: 0.0654 - accuracy: 0.9781 - val_loss: 1.5824 - val_accuracy: 0.6571\n",
      "Epoch 23/25\n",
      "3613/3613 [==============================] - 0s 124us/step - loss: 0.0693 - accuracy: 0.9759 - val_loss: 1.6571 - val_accuracy: 0.6542\n",
      "Epoch 24/25\n",
      "3613/3613 [==============================] - 0s 95us/step - loss: 0.0634 - accuracy: 0.9790 - val_loss: 1.7021 - val_accuracy: 0.6427\n",
      "Epoch 25/25\n",
      "3613/3613 [==============================] - 0s 116us/step - loss: 0.0610 - accuracy: 0.9770 - val_loss: 1.7223 - val_accuracy: 0.6369\n",
      "training finish\n"
     ]
    }
   ],
   "source": [
    "from keras.callbacks import CSVLogger\n",
    "\n",
    "csv_logger = CSVLogger('logs/training_log.csv')\n",
    "\n",
    "# training setting\n",
    "epochs = 25\n",
    "batch_size = 32\n",
    "\n",
    "# training!\n",
    "history = model.fit(X_train, y_train, \n",
    "                    epochs=epochs, \n",
    "                    batch_size=batch_size, \n",
    "                    callbacks=[csv_logger],\n",
    "                    validation_data = (X_test, y_test))\n",
    "print('training finish')"
   ]
  },
  {
   "cell_type": "code",
   "execution_count": 42,
   "metadata": {},
   "outputs": [
    {
     "data": {
      "text/plain": [
       "array([[3.8539470e-06, 9.9950111e-01, 6.6213126e-08, 4.9498305e-04],\n",
       "       [3.8890735e-06, 9.9989569e-01, 8.4223015e-05, 1.6180598e-05],\n",
       "       [2.7063262e-02, 9.6879870e-01, 2.2178927e-05, 4.1158274e-03],\n",
       "       [9.9904281e-01, 4.0293339e-06, 9.2903030e-04, 2.4069237e-05],\n",
       "       [8.8254410e-01, 2.2968795e-04, 6.6455854e-03, 1.1058071e-01]],\n",
       "      dtype=float32)"
      ]
     },
     "execution_count": 42,
     "metadata": {},
     "output_type": "execute_result"
    }
   ],
   "source": [
    "## predict\n",
    "pred_result = model.predict(X_test, batch_size=128)\n",
    "pred_result[:5]"
   ]
  },
  {
   "cell_type": "code",
   "execution_count": 43,
   "metadata": {},
   "outputs": [
    {
     "data": {
      "text/plain": [
       "array(['fear', 'fear', 'fear', 'anger', 'anger'], dtype=object)"
      ]
     },
     "execution_count": 43,
     "metadata": {},
     "output_type": "execute_result"
    }
   ],
   "source": [
    "pred_result = label_decode(label_encoder, pred_result)\n",
    "pred_result[:5]"
   ]
  },
  {
   "cell_type": "code",
   "execution_count": 44,
   "metadata": {},
   "outputs": [
    {
     "name": "stdout",
     "output_type": "stream",
     "text": [
      "testing accuracy: 0.64\n"
     ]
    }
   ],
   "source": [
    "from sklearn.metrics import accuracy_score\n",
    "\n",
    "print('testing accuracy: {}'.format(round(accuracy_score(label_decode(label_encoder, y_test), pred_result), 2)))"
   ]
  },
  {
   "cell_type": "code",
   "execution_count": 45,
   "metadata": {},
   "outputs": [
    {
     "data": {
      "text/html": [
       "<div>\n",
       "<style scoped>\n",
       "    .dataframe tbody tr th:only-of-type {\n",
       "        vertical-align: middle;\n",
       "    }\n",
       "\n",
       "    .dataframe tbody tr th {\n",
       "        vertical-align: top;\n",
       "    }\n",
       "\n",
       "    .dataframe thead th {\n",
       "        text-align: right;\n",
       "    }\n",
       "</style>\n",
       "<table border=\"1\" class=\"dataframe\">\n",
       "  <thead>\n",
       "    <tr style=\"text-align: right;\">\n",
       "      <th></th>\n",
       "      <th>epoch</th>\n",
       "      <th>accuracy</th>\n",
       "      <th>loss</th>\n",
       "      <th>val_accuracy</th>\n",
       "      <th>val_loss</th>\n",
       "    </tr>\n",
       "  </thead>\n",
       "  <tbody>\n",
       "    <tr>\n",
       "      <th>0</th>\n",
       "      <td>0</td>\n",
       "      <td>0.357598</td>\n",
       "      <td>1.335002</td>\n",
       "      <td>0.394813</td>\n",
       "      <td>1.282911</td>\n",
       "    </tr>\n",
       "    <tr>\n",
       "      <th>1</th>\n",
       "      <td>1</td>\n",
       "      <td>0.647938</td>\n",
       "      <td>0.979271</td>\n",
       "      <td>0.671470</td>\n",
       "      <td>0.897968</td>\n",
       "    </tr>\n",
       "    <tr>\n",
       "      <th>2</th>\n",
       "      <td>2</td>\n",
       "      <td>0.798229</td>\n",
       "      <td>0.564551</td>\n",
       "      <td>0.714697</td>\n",
       "      <td>0.777127</td>\n",
       "    </tr>\n",
       "    <tr>\n",
       "      <th>3</th>\n",
       "      <td>3</td>\n",
       "      <td>0.851924</td>\n",
       "      <td>0.402680</td>\n",
       "      <td>0.708934</td>\n",
       "      <td>0.755122</td>\n",
       "    </tr>\n",
       "    <tr>\n",
       "      <th>4</th>\n",
       "      <td>4</td>\n",
       "      <td>0.884307</td>\n",
       "      <td>0.317894</td>\n",
       "      <td>0.703170</td>\n",
       "      <td>0.812228</td>\n",
       "    </tr>\n",
       "    <tr>\n",
       "      <th>5</th>\n",
       "      <td>5</td>\n",
       "      <td>0.911708</td>\n",
       "      <td>0.257064</td>\n",
       "      <td>0.691643</td>\n",
       "      <td>0.853096</td>\n",
       "    </tr>\n",
       "    <tr>\n",
       "      <th>6</th>\n",
       "      <td>6</td>\n",
       "      <td>0.926377</td>\n",
       "      <td>0.218098</td>\n",
       "      <td>0.694524</td>\n",
       "      <td>0.923847</td>\n",
       "    </tr>\n",
       "    <tr>\n",
       "      <th>7</th>\n",
       "      <td>7</td>\n",
       "      <td>0.942984</td>\n",
       "      <td>0.180217</td>\n",
       "      <td>0.697406</td>\n",
       "      <td>1.003217</td>\n",
       "    </tr>\n",
       "    <tr>\n",
       "      <th>8</th>\n",
       "      <td>8</td>\n",
       "      <td>0.954332</td>\n",
       "      <td>0.153568</td>\n",
       "      <td>0.677233</td>\n",
       "      <td>1.067725</td>\n",
       "    </tr>\n",
       "    <tr>\n",
       "      <th>9</th>\n",
       "      <td>9</td>\n",
       "      <td>0.960421</td>\n",
       "      <td>0.136739</td>\n",
       "      <td>0.680115</td>\n",
       "      <td>1.133032</td>\n",
       "    </tr>\n",
       "    <tr>\n",
       "      <th>10</th>\n",
       "      <td>10</td>\n",
       "      <td>0.964572</td>\n",
       "      <td>0.120285</td>\n",
       "      <td>0.677233</td>\n",
       "      <td>1.171264</td>\n",
       "    </tr>\n",
       "    <tr>\n",
       "      <th>11</th>\n",
       "      <td>11</td>\n",
       "      <td>0.966233</td>\n",
       "      <td>0.112073</td>\n",
       "      <td>0.671470</td>\n",
       "      <td>1.238314</td>\n",
       "    </tr>\n",
       "    <tr>\n",
       "      <th>12</th>\n",
       "      <td>12</td>\n",
       "      <td>0.968447</td>\n",
       "      <td>0.102249</td>\n",
       "      <td>0.682997</td>\n",
       "      <td>1.288271</td>\n",
       "    </tr>\n",
       "    <tr>\n",
       "      <th>13</th>\n",
       "      <td>13</td>\n",
       "      <td>0.970385</td>\n",
       "      <td>0.095063</td>\n",
       "      <td>0.662824</td>\n",
       "      <td>1.298992</td>\n",
       "    </tr>\n",
       "    <tr>\n",
       "      <th>14</th>\n",
       "      <td>14</td>\n",
       "      <td>0.972876</td>\n",
       "      <td>0.086222</td>\n",
       "      <td>0.668588</td>\n",
       "      <td>1.355175</td>\n",
       "    </tr>\n",
       "    <tr>\n",
       "      <th>15</th>\n",
       "      <td>15</td>\n",
       "      <td>0.973429</td>\n",
       "      <td>0.078779</td>\n",
       "      <td>0.645533</td>\n",
       "      <td>1.418771</td>\n",
       "    </tr>\n",
       "    <tr>\n",
       "      <th>16</th>\n",
       "      <td>16</td>\n",
       "      <td>0.973983</td>\n",
       "      <td>0.085889</td>\n",
       "      <td>0.659942</td>\n",
       "      <td>1.428200</td>\n",
       "    </tr>\n",
       "    <tr>\n",
       "      <th>17</th>\n",
       "      <td>17</td>\n",
       "      <td>0.973983</td>\n",
       "      <td>0.081294</td>\n",
       "      <td>0.662824</td>\n",
       "      <td>1.471860</td>\n",
       "    </tr>\n",
       "    <tr>\n",
       "      <th>18</th>\n",
       "      <td>18</td>\n",
       "      <td>0.976751</td>\n",
       "      <td>0.073878</td>\n",
       "      <td>0.665706</td>\n",
       "      <td>1.500187</td>\n",
       "    </tr>\n",
       "    <tr>\n",
       "      <th>19</th>\n",
       "      <td>19</td>\n",
       "      <td>0.975920</td>\n",
       "      <td>0.073173</td>\n",
       "      <td>0.648415</td>\n",
       "      <td>1.557809</td>\n",
       "    </tr>\n",
       "    <tr>\n",
       "      <th>20</th>\n",
       "      <td>20</td>\n",
       "      <td>0.975643</td>\n",
       "      <td>0.067460</td>\n",
       "      <td>0.648415</td>\n",
       "      <td>1.614193</td>\n",
       "    </tr>\n",
       "    <tr>\n",
       "      <th>21</th>\n",
       "      <td>21</td>\n",
       "      <td>0.978134</td>\n",
       "      <td>0.065427</td>\n",
       "      <td>0.657061</td>\n",
       "      <td>1.582408</td>\n",
       "    </tr>\n",
       "    <tr>\n",
       "      <th>22</th>\n",
       "      <td>22</td>\n",
       "      <td>0.975920</td>\n",
       "      <td>0.069293</td>\n",
       "      <td>0.654179</td>\n",
       "      <td>1.657057</td>\n",
       "    </tr>\n",
       "    <tr>\n",
       "      <th>23</th>\n",
       "      <td>23</td>\n",
       "      <td>0.978965</td>\n",
       "      <td>0.063393</td>\n",
       "      <td>0.642651</td>\n",
       "      <td>1.702149</td>\n",
       "    </tr>\n",
       "    <tr>\n",
       "      <th>24</th>\n",
       "      <td>24</td>\n",
       "      <td>0.977027</td>\n",
       "      <td>0.061020</td>\n",
       "      <td>0.636888</td>\n",
       "      <td>1.722271</td>\n",
       "    </tr>\n",
       "  </tbody>\n",
       "</table>\n",
       "</div>"
      ],
      "text/plain": [
       "    epoch  accuracy      loss  val_accuracy  val_loss\n",
       "0       0  0.357598  1.335002      0.394813  1.282911\n",
       "1       1  0.647938  0.979271      0.671470  0.897968\n",
       "2       2  0.798229  0.564551      0.714697  0.777127\n",
       "3       3  0.851924  0.402680      0.708934  0.755122\n",
       "4       4  0.884307  0.317894      0.703170  0.812228\n",
       "5       5  0.911708  0.257064      0.691643  0.853096\n",
       "6       6  0.926377  0.218098      0.694524  0.923847\n",
       "7       7  0.942984  0.180217      0.697406  1.003217\n",
       "8       8  0.954332  0.153568      0.677233  1.067725\n",
       "9       9  0.960421  0.136739      0.680115  1.133032\n",
       "10     10  0.964572  0.120285      0.677233  1.171264\n",
       "11     11  0.966233  0.112073      0.671470  1.238314\n",
       "12     12  0.968447  0.102249      0.682997  1.288271\n",
       "13     13  0.970385  0.095063      0.662824  1.298992\n",
       "14     14  0.972876  0.086222      0.668588  1.355175\n",
       "15     15  0.973429  0.078779      0.645533  1.418771\n",
       "16     16  0.973983  0.085889      0.659942  1.428200\n",
       "17     17  0.973983  0.081294      0.662824  1.471860\n",
       "18     18  0.976751  0.073878      0.665706  1.500187\n",
       "19     19  0.975920  0.073173      0.648415  1.557809\n",
       "20     20  0.975643  0.067460      0.648415  1.614193\n",
       "21     21  0.978134  0.065427      0.657061  1.582408\n",
       "22     22  0.975920  0.069293      0.654179  1.657057\n",
       "23     23  0.978965  0.063393      0.642651  1.702149\n",
       "24     24  0.977027  0.061020      0.636888  1.722271"
      ]
     },
     "execution_count": 45,
     "metadata": {},
     "output_type": "execute_result"
    }
   ],
   "source": [
    "#Let's take a look at the training log\n",
    "training_log = pd.DataFrame()\n",
    "training_log = pd.read_csv(\"logs/training_log.csv\")\n",
    "training_log"
   ]
  },
  {
   "cell_type": "code",
   "execution_count": 46,
   "metadata": {},
   "outputs": [
    {
     "data": {
      "text/plain": [
       "<matplotlib.axes._subplots.AxesSubplot at 0x7f9c31ec8b90>"
      ]
     },
     "execution_count": 46,
     "metadata": {},
     "output_type": "execute_result"
    },
    {
     "data": {
      "image/png": "[encoded data removed]",
      "text/plain": [
       "<Figure size 432x288 with 1 Axes>"
      ]
     },
     "metadata": {
      "needs_background": "light"
     },
     "output_type": "display_data"
    }
   ],
   "source": [
    "import matplotlib.pyplot as plt\n",
    "training_log = pd.DataFrame()\n",
    "training_log = pd.read_csv(\"logs/training_log.csv\")\n",
    "training_log.plot(x='epoch', y=['accuracy','val_accuracy'])"
   ]
  },
  {
   "cell_type": "code",
   "execution_count": 47,
   "metadata": {},
   "outputs": [
    {
     "data": {
      "text/plain": [
       "<matplotlib.axes._subplots.AxesSubplot at 0x7f9c31ad7ad0>"
      ]
     },
     "execution_count": 47,
     "metadata": {},
     "output_type": "execute_result"
    },
    {
     "data": {
      "image/png": "[encoded data removed]",
      "text/plain": [
       "<Figure size 432x288 with 1 Axes>"
      ]
     },
     "metadata": {
      "needs_background": "light"
     },
     "output_type": "display_data"
    }
   ],
   "source": [
    "training_log.plot(x='epoch', y=['loss','val_loss'])"
   ]
  },
  {
   "cell_type": "markdown",
   "metadata": {},
   "source": [
    "### Explan \n",
    "We can see that when epoch high than 2, the val_loss getting high not getting lower, it means that the model getting overfitting, overfitting means the model becomes very fit about the training data so the model become not universal."
   ]
  },
  {
   "cell_type": "code",
   "execution_count": 48,
   "metadata": {},
   "outputs": [],
   "source": [
    "# check library\n",
    "import gensim\n",
    "import nltk\n",
    "\n",
    "# ignore warnings\n",
    "import warnings\n",
    "warnings.filterwarnings('ignore')\n",
    "\n",
    "# the input type\n",
    "train_df['text_tokenized'] = train_df['text'].apply(lambda x: nltk.word_tokenize(x))"
   ]
  },
  {
   "cell_type": "code",
   "execution_count": 49,
   "metadata": {},
   "outputs": [],
   "source": [
    "# create the training corpus\n",
    "training_corpus = train_df['text_tokenized'].values"
   ]
  },
  {
   "cell_type": "code",
   "execution_count": 50,
   "metadata": {},
   "outputs": [],
   "source": [
    "from gensim.models import Word2Vec\n",
    "\n",
    "# setting\n",
    "vector_dim = 100\n",
    "window_size = 5\n",
    "min_count = 1\n",
    "training_iter = 20\n",
    "\n",
    "# model\n",
    "word2vec_model = Word2Vec(sentences=training_corpus, \n",
    "                          size=vector_dim, window=window_size, \n",
    "                          min_count=min_count, iter=training_iter)"
   ]
  },
  {
   "cell_type": "code",
   "execution_count": 51,
   "metadata": {},
   "outputs": [
    {
     "name": "stdout",
     "output_type": "stream",
     "text": [
      "load ok\n"
     ]
    }
   ],
   "source": [
    "from gensim.models import KeyedVectors\n",
    "\n",
    "## Note: this model is very huge, this will take some time ...\n",
    "model_path = \"GoogleNews/GoogleNews-vectors-negative300.bin.gz\"\n",
    "w2v_google_model = KeyedVectors.load_word2vec_format(model_path, binary=True)\n",
    "print('load ok')"
   ]
  },
  {
   "cell_type": "markdown",
   "metadata": {},
   "source": [
    "---\n",
    "### ** >>> Exercise 7 (Take home): **  \n",
    "\n",
    "Now, we have the word vectors, but our input data is a sequence of words (or say sentence). \n",
    "How can we utilize these \"word\" vectors to represent the sentence data and train our model?\n",
    "\n"
   ]
  },
  {
   "cell_type": "markdown",
   "metadata": {},
   "source": [
    "Ans：\n",
    "1.we can put the sequence of word into RNN model, the RNN model can use a continuous vectors to train model.\n",
    "2.Or we can let the vectors to be a image be put the vectors matrix in to CNN.\n",
    "3.we can calculate the means between the sentences and the label, and a article have many sentences, so that we have the features now ~ and put it into NN model. "
   ]
  },
  {
   "cell_type": "markdown",
   "metadata": {},
   "source": [
    "---\n",
    "### ** >>> Exercise 8 (Take home): **  \n",
    "\n",
    "Generate a t-SNE visualization to show the 15 words most related to the words \"angry\", \"happy\", \"sad\", \"fear\" (60 words total)."
   ]
  },
  {
   "cell_type": "code",
   "execution_count": 52,
   "metadata": {},
   "outputs": [],
   "source": [
    "word_list = ['angry', 'happy', 'sad', 'fear']\n",
    "\n",
    "topn = 15\n",
    "angry_words = ['angry'] + [word_ for word_, sim_ in w2v_google_model.most_similar('angry', topn=topn)]\n",
    "happy_words = ['happy'] + [word_ for word_, sim_ in w2v_google_model.most_similar('happy', topn=topn)]        \n",
    "sad_words = ['sad'] + [word_ for word_, sim_ in w2v_google_model.most_similar('sad', topn=topn)]        \n",
    "fear_words = ['fear'] + [word_ for word_, sim_ in w2v_google_model.most_similar('fear', topn=topn)]        \n",
    "\n",
    "target_words = angry_words + happy_words + sad_words + fear_words\n",
    "\n",
    "cn = topn + 1\n",
    "color = ['b'] * cn + ['g'] * cn + ['r'] * cn + ['y'] * cn\n"
   ]
  },
  {
   "cell_type": "code",
   "execution_count": 53,
   "metadata": {},
   "outputs": [
    {
     "data": {
      "image/png": "[encoded data removed]",
      "text/plain": [
       "<Figure size 862.5x862.5 with 1 Axes>"
      ]
     },
     "metadata": {
      "needs_background": "light"
     },
     "output_type": "display_data"
    }
   ],
   "source": [
    "%matplotlib inline\n",
    "import matplotlib.pyplot as plt\n",
    "from sklearn.manifold import TSNE\n",
    "\n",
    "## w2v model\n",
    "model = w2v_google_model\n",
    "\n",
    "## prepare training word vectors\n",
    "size = 200\n",
    "target_size = len(target_words)\n",
    "all_word = list(model.vocab.keys())\n",
    "word_train = target_words + all_word[:size]\n",
    "X_train = model[word_train]\n",
    "\n",
    "## t-SNE model\n",
    "tsne = TSNE(n_components=2, metric='cosine', random_state=28)\n",
    "\n",
    "## training\n",
    "X_tsne = tsne.fit_transform(X_train)\n",
    "\n",
    "## plot the result\n",
    "plt.figure(figsize=(7.5, 7.5), dpi=115)\n",
    "plt.scatter(X_tsne[:target_size, 0], X_tsne[:target_size, 1], c=color)\n",
    "for label, x, y in zip(target_words, X_tsne[:target_size, 0], X_tsne[:target_size, 1]):\n",
    "    plt.annotate(label, xy=(x,y), xytext=(0,0),  textcoords='offset points')\n",
    "plt.show()"
   ]
  },
  {
   "cell_type": "markdown",
   "metadata": {},
   "source": [
    "---\n",
    "### ** >>> Kaggle **  \n",
    "\n",
    "data read:"
   ]
  },
  {
   "cell_type": "code",
   "execution_count": 50,
   "metadata": {},
   "outputs": [],
   "source": [
    "import pandas as pd"
   ]
  },
  {
   "cell_type": "code",
   "execution_count": 51,
   "metadata": {},
   "outputs": [
    {
     "data": {
      "text/html": [
       "<div>\n",
       "<style scoped>\n",
       "    .dataframe tbody tr th:only-of-type {\n",
       "        vertical-align: middle;\n",
       "    }\n",
       "\n",
       "    .dataframe tbody tr th {\n",
       "        vertical-align: top;\n",
       "    }\n",
       "\n",
       "    .dataframe thead th {\n",
       "        text-align: right;\n",
       "    }\n",
       "</style>\n",
       "<table border=\"1\" class=\"dataframe\">\n",
       "  <thead>\n",
       "    <tr style=\"text-align: right;\">\n",
       "      <th></th>\n",
       "      <th>_score</th>\n",
       "      <th>_index</th>\n",
       "      <th>_source</th>\n",
       "      <th>_crawldate</th>\n",
       "      <th>_type</th>\n",
       "    </tr>\n",
       "  </thead>\n",
       "  <tbody>\n",
       "    <tr>\n",
       "      <th>0</th>\n",
       "      <td>391</td>\n",
       "      <td>hashtag_tweets</td>\n",
       "      <td>{'tweet': {'hashtags': ['Snapchat'], 'tweet_id...</td>\n",
       "      <td>2015-05-23 11:42:47</td>\n",
       "      <td>tweets</td>\n",
       "    </tr>\n",
       "    <tr>\n",
       "      <th>1</th>\n",
       "      <td>433</td>\n",
       "      <td>hashtag_tweets</td>\n",
       "      <td>{'tweet': {'hashtags': ['freepress', 'TrumpLeg...</td>\n",
       "      <td>2016-01-28 04:52:09</td>\n",
       "      <td>tweets</td>\n",
       "    </tr>\n",
       "    <tr>\n",
       "      <th>2</th>\n",
       "      <td>232</td>\n",
       "      <td>hashtag_tweets</td>\n",
       "      <td>{'tweet': {'hashtags': ['bibleverse'], 'tweet_...</td>\n",
       "      <td>2017-12-25 04:39:20</td>\n",
       "      <td>tweets</td>\n",
       "    </tr>\n",
       "    <tr>\n",
       "      <th>3</th>\n",
       "      <td>376</td>\n",
       "      <td>hashtag_tweets</td>\n",
       "      <td>{'tweet': {'hashtags': [], 'tweet_id': '0x1cd5...</td>\n",
       "      <td>2016-01-24 23:53:05</td>\n",
       "      <td>tweets</td>\n",
       "    </tr>\n",
       "    <tr>\n",
       "      <th>4</th>\n",
       "      <td>989</td>\n",
       "      <td>hashtag_tweets</td>\n",
       "      <td>{'tweet': {'hashtags': [], 'tweet_id': '0x2de2...</td>\n",
       "      <td>2016-01-08 17:18:59</td>\n",
       "      <td>tweets</td>\n",
       "    </tr>\n",
       "    <tr>\n",
       "      <th>...</th>\n",
       "      <td>...</td>\n",
       "      <td>...</td>\n",
       "      <td>...</td>\n",
       "      <td>...</td>\n",
       "      <td>...</td>\n",
       "    </tr>\n",
       "    <tr>\n",
       "      <th>1867530</th>\n",
       "      <td>827</td>\n",
       "      <td>hashtag_tweets</td>\n",
       "      <td>{'tweet': {'hashtags': ['mixedfeeling', 'butim...</td>\n",
       "      <td>2015-05-12 12:51:52</td>\n",
       "      <td>tweets</td>\n",
       "    </tr>\n",
       "    <tr>\n",
       "      <th>1867531</th>\n",
       "      <td>368</td>\n",
       "      <td>hashtag_tweets</td>\n",
       "      <td>{'tweet': {'hashtags': [], 'tweet_id': '0x29d0...</td>\n",
       "      <td>2017-10-02 17:54:04</td>\n",
       "      <td>tweets</td>\n",
       "    </tr>\n",
       "    <tr>\n",
       "      <th>1867532</th>\n",
       "      <td>498</td>\n",
       "      <td>hashtag_tweets</td>\n",
       "      <td>{'tweet': {'hashtags': [], 'tweet_id': '0x2a6a...</td>\n",
       "      <td>2016-10-10 11:04:32</td>\n",
       "      <td>tweets</td>\n",
       "    </tr>\n",
       "    <tr>\n",
       "      <th>1867533</th>\n",
       "      <td>840</td>\n",
       "      <td>hashtag_tweets</td>\n",
       "      <td>{'tweet': {'hashtags': [], 'tweet_id': '0x24fa...</td>\n",
       "      <td>2016-09-02 14:25:06</td>\n",
       "      <td>tweets</td>\n",
       "    </tr>\n",
       "    <tr>\n",
       "      <th>1867534</th>\n",
       "      <td>360</td>\n",
       "      <td>hashtag_tweets</td>\n",
       "      <td>{'tweet': {'hashtags': ['Sundayvibes'], 'tweet...</td>\n",
       "      <td>2016-11-16 01:40:07</td>\n",
       "      <td>tweets</td>\n",
       "    </tr>\n",
       "  </tbody>\n",
       "</table>\n",
       "<p>1867535 rows × 5 columns</p>\n",
       "</div>"
      ],
      "text/plain": [
       "         _score          _index  \\\n",
       "0           391  hashtag_tweets   \n",
       "1           433  hashtag_tweets   \n",
       "2           232  hashtag_tweets   \n",
       "3           376  hashtag_tweets   \n",
       "4           989  hashtag_tweets   \n",
       "...         ...             ...   \n",
       "1867530     827  hashtag_tweets   \n",
       "1867531     368  hashtag_tweets   \n",
       "1867532     498  hashtag_tweets   \n",
       "1867533     840  hashtag_tweets   \n",
       "1867534     360  hashtag_tweets   \n",
       "\n",
       "                                                   _source  \\\n",
       "0        {'tweet': {'hashtags': ['Snapchat'], 'tweet_id...   \n",
       "1        {'tweet': {'hashtags': ['freepress', 'TrumpLeg...   \n",
       "2        {'tweet': {'hashtags': ['bibleverse'], 'tweet_...   \n",
       "3        {'tweet': {'hashtags': [], 'tweet_id': '0x1cd5...   \n",
       "4        {'tweet': {'hashtags': [], 'tweet_id': '0x2de2...   \n",
       "...                                                    ...   \n",
       "1867530  {'tweet': {'hashtags': ['mixedfeeling', 'butim...   \n",
       "1867531  {'tweet': {'hashtags': [], 'tweet_id': '0x29d0...   \n",
       "1867532  {'tweet': {'hashtags': [], 'tweet_id': '0x2a6a...   \n",
       "1867533  {'tweet': {'hashtags': [], 'tweet_id': '0x24fa...   \n",
       "1867534  {'tweet': {'hashtags': ['Sundayvibes'], 'tweet...   \n",
       "\n",
       "                  _crawldate   _type  \n",
       "0        2015-05-23 11:42:47  tweets  \n",
       "1        2016-01-28 04:52:09  tweets  \n",
       "2        2017-12-25 04:39:20  tweets  \n",
       "3        2016-01-24 23:53:05  tweets  \n",
       "4        2016-01-08 17:18:59  tweets  \n",
       "...                      ...     ...  \n",
       "1867530  2015-05-12 12:51:52  tweets  \n",
       "1867531  2017-10-02 17:54:04  tweets  \n",
       "1867532  2016-10-10 11:04:32  tweets  \n",
       "1867533  2016-09-02 14:25:06  tweets  \n",
       "1867534  2016-11-16 01:40:07  tweets  \n",
       "\n",
       "[1867535 rows x 5 columns]"
      ]
     },
     "execution_count": 51,
     "metadata": {},
     "output_type": "execute_result"
    }
   ],
   "source": [
    "data_json = pd.read_json(\"tweets_DM.json\",lines=True)\n",
    "data_json"
   ]
  },
  {
   "cell_type": "markdown",
   "metadata": {},
   "source": [
    "the text is in _source and source have tweet, tweet have hashtags, tweet_id, and text"
   ]
  },
  {
   "cell_type": "code",
   "execution_count": 52,
   "metadata": {},
   "outputs": [
    {
     "data": {
      "text/html": [
       "<div>\n",
       "<style scoped>\n",
       "    .dataframe tbody tr th:only-of-type {\n",
       "        vertical-align: middle;\n",
       "    }\n",
       "\n",
       "    .dataframe tbody tr th {\n",
       "        vertical-align: top;\n",
       "    }\n",
       "\n",
       "    .dataframe thead th {\n",
       "        text-align: right;\n",
       "    }\n",
       "</style>\n",
       "<table border=\"1\" class=\"dataframe\">\n",
       "  <thead>\n",
       "    <tr style=\"text-align: right;\">\n",
       "      <th></th>\n",
       "      <th>tweet</th>\n",
       "    </tr>\n",
       "  </thead>\n",
       "  <tbody>\n",
       "    <tr>\n",
       "      <th>0</th>\n",
       "      <td>{'hashtags': ['Snapchat'], 'tweet_id': '0x376b...</td>\n",
       "    </tr>\n",
       "    <tr>\n",
       "      <th>1</th>\n",
       "      <td>{'hashtags': ['freepress', 'TrumpLegacy', 'CNN...</td>\n",
       "    </tr>\n",
       "    <tr>\n",
       "      <th>2</th>\n",
       "      <td>{'hashtags': ['bibleverse'], 'tweet_id': '0x28...</td>\n",
       "    </tr>\n",
       "    <tr>\n",
       "      <th>3</th>\n",
       "      <td>{'hashtags': [], 'tweet_id': '0x1cd5b0', 'text...</td>\n",
       "    </tr>\n",
       "    <tr>\n",
       "      <th>4</th>\n",
       "      <td>{'hashtags': [], 'tweet_id': '0x2de201', 'text...</td>\n",
       "    </tr>\n",
       "    <tr>\n",
       "      <th>...</th>\n",
       "      <td>...</td>\n",
       "    </tr>\n",
       "    <tr>\n",
       "      <th>1867530</th>\n",
       "      <td>{'hashtags': ['mixedfeeling', 'butimTHATperson...</td>\n",
       "    </tr>\n",
       "    <tr>\n",
       "      <th>1867531</th>\n",
       "      <td>{'hashtags': [], 'tweet_id': '0x29d0cb', 'text...</td>\n",
       "    </tr>\n",
       "    <tr>\n",
       "      <th>1867532</th>\n",
       "      <td>{'hashtags': [], 'tweet_id': '0x2a6a4f', 'text...</td>\n",
       "    </tr>\n",
       "    <tr>\n",
       "      <th>1867533</th>\n",
       "      <td>{'hashtags': [], 'tweet_id': '0x24faed', 'text...</td>\n",
       "    </tr>\n",
       "    <tr>\n",
       "      <th>1867534</th>\n",
       "      <td>{'hashtags': ['Sundayvibes'], 'tweet_id': '0x3...</td>\n",
       "    </tr>\n",
       "  </tbody>\n",
       "</table>\n",
       "<p>1867535 rows × 1 columns</p>\n",
       "</div>"
      ],
      "text/plain": [
       "                                                     tweet\n",
       "0        {'hashtags': ['Snapchat'], 'tweet_id': '0x376b...\n",
       "1        {'hashtags': ['freepress', 'TrumpLegacy', 'CNN...\n",
       "2        {'hashtags': ['bibleverse'], 'tweet_id': '0x28...\n",
       "3        {'hashtags': [], 'tweet_id': '0x1cd5b0', 'text...\n",
       "4        {'hashtags': [], 'tweet_id': '0x2de201', 'text...\n",
       "...                                                    ...\n",
       "1867530  {'hashtags': ['mixedfeeling', 'butimTHATperson...\n",
       "1867531  {'hashtags': [], 'tweet_id': '0x29d0cb', 'text...\n",
       "1867532  {'hashtags': [], 'tweet_id': '0x2a6a4f', 'text...\n",
       "1867533  {'hashtags': [], 'tweet_id': '0x24faed', 'text...\n",
       "1867534  {'hashtags': ['Sundayvibes'], 'tweet_id': '0x3...\n",
       "\n",
       "[1867535 rows x 1 columns]"
      ]
     },
     "execution_count": 52,
     "metadata": {},
     "output_type": "execute_result"
    }
   ],
   "source": [
    "data_source = data_json['_source'].apply(pd.Series)\n",
    "data_source"
   ]
  },
  {
   "cell_type": "code",
   "execution_count": 53,
   "metadata": {},
   "outputs": [
    {
     "data": {
      "text/html": [
       "<div>\n",
       "<style scoped>\n",
       "    .dataframe tbody tr th:only-of-type {\n",
       "        vertical-align: middle;\n",
       "    }\n",
       "\n",
       "    .dataframe tbody tr th {\n",
       "        vertical-align: top;\n",
       "    }\n",
       "\n",
       "    .dataframe thead th {\n",
       "        text-align: right;\n",
       "    }\n",
       "</style>\n",
       "<table border=\"1\" class=\"dataframe\">\n",
       "  <thead>\n",
       "    <tr style=\"text-align: right;\">\n",
       "      <th></th>\n",
       "      <th>hashtags</th>\n",
       "      <th>tweet_id</th>\n",
       "      <th>text</th>\n",
       "    </tr>\n",
       "  </thead>\n",
       "  <tbody>\n",
       "    <tr>\n",
       "      <th>0</th>\n",
       "      <td>[Snapchat]</td>\n",
       "      <td>0x376b20</td>\n",
       "      <td>People who post \"add me on #Snapchat\" must be ...</td>\n",
       "    </tr>\n",
       "    <tr>\n",
       "      <th>1</th>\n",
       "      <td>[freepress, TrumpLegacy, CNN]</td>\n",
       "      <td>0x2d5350</td>\n",
       "      <td>@brianklaas As we see, Trump is dangerous to #...</td>\n",
       "    </tr>\n",
       "    <tr>\n",
       "      <th>2</th>\n",
       "      <td>[bibleverse]</td>\n",
       "      <td>0x28b412</td>\n",
       "      <td>Confident of your obedience, I write to you, k...</td>\n",
       "    </tr>\n",
       "    <tr>\n",
       "      <th>3</th>\n",
       "      <td>[]</td>\n",
       "      <td>0x1cd5b0</td>\n",
       "      <td>Now ISSA is stalking Tasha 😂😂😂 &lt;LH&gt;</td>\n",
       "    </tr>\n",
       "    <tr>\n",
       "      <th>4</th>\n",
       "      <td>[]</td>\n",
       "      <td>0x2de201</td>\n",
       "      <td>\"Trust is not the same as faith. A friend is s...</td>\n",
       "    </tr>\n",
       "    <tr>\n",
       "      <th>...</th>\n",
       "      <td>...</td>\n",
       "      <td>...</td>\n",
       "      <td>...</td>\n",
       "    </tr>\n",
       "    <tr>\n",
       "      <th>1867530</th>\n",
       "      <td>[mixedfeeling, butimTHATperson]</td>\n",
       "      <td>0x316b80</td>\n",
       "      <td>When you buy the last 2 tickets remaining for ...</td>\n",
       "    </tr>\n",
       "    <tr>\n",
       "      <th>1867531</th>\n",
       "      <td>[]</td>\n",
       "      <td>0x29d0cb</td>\n",
       "      <td>I swear all this hard work gone pay off one da...</td>\n",
       "    </tr>\n",
       "    <tr>\n",
       "      <th>1867532</th>\n",
       "      <td>[]</td>\n",
       "      <td>0x2a6a4f</td>\n",
       "      <td>@Parcel2Go no card left when I wasn't in so I ...</td>\n",
       "    </tr>\n",
       "    <tr>\n",
       "      <th>1867533</th>\n",
       "      <td>[]</td>\n",
       "      <td>0x24faed</td>\n",
       "      <td>Ah, corporate life, where you can date &lt;LH&gt; us...</td>\n",
       "    </tr>\n",
       "    <tr>\n",
       "      <th>1867534</th>\n",
       "      <td>[Sundayvibes]</td>\n",
       "      <td>0x34be8c</td>\n",
       "      <td>Blessed to be living #Sundayvibes &lt;LH&gt;</td>\n",
       "    </tr>\n",
       "  </tbody>\n",
       "</table>\n",
       "<p>1867535 rows × 3 columns</p>\n",
       "</div>"
      ],
      "text/plain": [
       "                                hashtags  tweet_id  \\\n",
       "0                             [Snapchat]  0x376b20   \n",
       "1          [freepress, TrumpLegacy, CNN]  0x2d5350   \n",
       "2                           [bibleverse]  0x28b412   \n",
       "3                                     []  0x1cd5b0   \n",
       "4                                     []  0x2de201   \n",
       "...                                  ...       ...   \n",
       "1867530  [mixedfeeling, butimTHATperson]  0x316b80   \n",
       "1867531                               []  0x29d0cb   \n",
       "1867532                               []  0x2a6a4f   \n",
       "1867533                               []  0x24faed   \n",
       "1867534                    [Sundayvibes]  0x34be8c   \n",
       "\n",
       "                                                      text  \n",
       "0        People who post \"add me on #Snapchat\" must be ...  \n",
       "1        @brianklaas As we see, Trump is dangerous to #...  \n",
       "2        Confident of your obedience, I write to you, k...  \n",
       "3                      Now ISSA is stalking Tasha 😂😂😂 <LH>  \n",
       "4        \"Trust is not the same as faith. A friend is s...  \n",
       "...                                                    ...  \n",
       "1867530  When you buy the last 2 tickets remaining for ...  \n",
       "1867531  I swear all this hard work gone pay off one da...  \n",
       "1867532  @Parcel2Go no card left when I wasn't in so I ...  \n",
       "1867533  Ah, corporate life, where you can date <LH> us...  \n",
       "1867534             Blessed to be living #Sundayvibes <LH>  \n",
       "\n",
       "[1867535 rows x 3 columns]"
      ]
     },
     "execution_count": 53,
     "metadata": {},
     "output_type": "execute_result"
    }
   ],
   "source": [
    "data_tweet = data_source['tweet'].apply(pd.Series)\n",
    "data_tweet"
   ]
  },
  {
   "cell_type": "code",
   "execution_count": 54,
   "metadata": {},
   "outputs": [
    {
     "data": {
      "text/html": [
       "<div>\n",
       "<style scoped>\n",
       "    .dataframe tbody tr th:only-of-type {\n",
       "        vertical-align: middle;\n",
       "    }\n",
       "\n",
       "    .dataframe tbody tr th {\n",
       "        vertical-align: top;\n",
       "    }\n",
       "\n",
       "    .dataframe thead th {\n",
       "        text-align: right;\n",
       "    }\n",
       "</style>\n",
       "<table border=\"1\" class=\"dataframe\">\n",
       "  <thead>\n",
       "    <tr style=\"text-align: right;\">\n",
       "      <th></th>\n",
       "      <th>tweet_id</th>\n",
       "      <th>hashtags</th>\n",
       "      <th>text</th>\n",
       "    </tr>\n",
       "  </thead>\n",
       "  <tbody>\n",
       "    <tr>\n",
       "      <th>0</th>\n",
       "      <td>0x376b20</td>\n",
       "      <td>[Snapchat]</td>\n",
       "      <td>People who post \"add me on #Snapchat\" must be ...</td>\n",
       "    </tr>\n",
       "    <tr>\n",
       "      <th>1</th>\n",
       "      <td>0x2d5350</td>\n",
       "      <td>[freepress, TrumpLegacy, CNN]</td>\n",
       "      <td>@brianklaas As we see, Trump is dangerous to #...</td>\n",
       "    </tr>\n",
       "    <tr>\n",
       "      <th>2</th>\n",
       "      <td>0x28b412</td>\n",
       "      <td>[bibleverse]</td>\n",
       "      <td>Confident of your obedience, I write to you, k...</td>\n",
       "    </tr>\n",
       "    <tr>\n",
       "      <th>3</th>\n",
       "      <td>0x1cd5b0</td>\n",
       "      <td>[]</td>\n",
       "      <td>Now ISSA is stalking Tasha 😂😂😂 &lt;LH&gt;</td>\n",
       "    </tr>\n",
       "    <tr>\n",
       "      <th>4</th>\n",
       "      <td>0x2de201</td>\n",
       "      <td>[]</td>\n",
       "      <td>\"Trust is not the same as faith. A friend is s...</td>\n",
       "    </tr>\n",
       "    <tr>\n",
       "      <th>...</th>\n",
       "      <td>...</td>\n",
       "      <td>...</td>\n",
       "      <td>...</td>\n",
       "    </tr>\n",
       "    <tr>\n",
       "      <th>1867530</th>\n",
       "      <td>0x316b80</td>\n",
       "      <td>[mixedfeeling, butimTHATperson]</td>\n",
       "      <td>When you buy the last 2 tickets remaining for ...</td>\n",
       "    </tr>\n",
       "    <tr>\n",
       "      <th>1867531</th>\n",
       "      <td>0x29d0cb</td>\n",
       "      <td>[]</td>\n",
       "      <td>I swear all this hard work gone pay off one da...</td>\n",
       "    </tr>\n",
       "    <tr>\n",
       "      <th>1867532</th>\n",
       "      <td>0x2a6a4f</td>\n",
       "      <td>[]</td>\n",
       "      <td>@Parcel2Go no card left when I wasn't in so I ...</td>\n",
       "    </tr>\n",
       "    <tr>\n",
       "      <th>1867533</th>\n",
       "      <td>0x24faed</td>\n",
       "      <td>[]</td>\n",
       "      <td>Ah, corporate life, where you can date &lt;LH&gt; us...</td>\n",
       "    </tr>\n",
       "    <tr>\n",
       "      <th>1867534</th>\n",
       "      <td>0x34be8c</td>\n",
       "      <td>[Sundayvibes]</td>\n",
       "      <td>Blessed to be living #Sundayvibes &lt;LH&gt;</td>\n",
       "    </tr>\n",
       "  </tbody>\n",
       "</table>\n",
       "<p>1867535 rows × 3 columns</p>\n",
       "</div>"
      ],
      "text/plain": [
       "         tweet_id                         hashtags  \\\n",
       "0        0x376b20                       [Snapchat]   \n",
       "1        0x2d5350    [freepress, TrumpLegacy, CNN]   \n",
       "2        0x28b412                     [bibleverse]   \n",
       "3        0x1cd5b0                               []   \n",
       "4        0x2de201                               []   \n",
       "...           ...                              ...   \n",
       "1867530  0x316b80  [mixedfeeling, butimTHATperson]   \n",
       "1867531  0x29d0cb                               []   \n",
       "1867532  0x2a6a4f                               []   \n",
       "1867533  0x24faed                               []   \n",
       "1867534  0x34be8c                    [Sundayvibes]   \n",
       "\n",
       "                                                      text  \n",
       "0        People who post \"add me on #Snapchat\" must be ...  \n",
       "1        @brianklaas As we see, Trump is dangerous to #...  \n",
       "2        Confident of your obedience, I write to you, k...  \n",
       "3                      Now ISSA is stalking Tasha 😂😂😂 <LH>  \n",
       "4        \"Trust is not the same as faith. A friend is s...  \n",
       "...                                                    ...  \n",
       "1867530  When you buy the last 2 tickets remaining for ...  \n",
       "1867531  I swear all this hard work gone pay off one da...  \n",
       "1867532  @Parcel2Go no card left when I wasn't in so I ...  \n",
       "1867533  Ah, corporate life, where you can date <LH> us...  \n",
       "1867534             Blessed to be living #Sundayvibes <LH>  \n",
       "\n",
       "[1867535 rows x 3 columns]"
      ]
     },
     "execution_count": 54,
     "metadata": {},
     "output_type": "execute_result"
    }
   ],
   "source": [
    "data_tweet = data_tweet.reindex(columns=['tweet_id','hashtags','text'])\n",
    "data_tweet"
   ]
  },
  {
   "cell_type": "markdown",
   "metadata": {},
   "source": [
    "read emotion and identification"
   ]
  },
  {
   "cell_type": "code",
   "execution_count": 56,
   "metadata": {},
   "outputs": [],
   "source": [
    "data_emotion = pd.read_csv('emotion.csv')\n",
    "data_identification = pd.read_csv('data_identification.csv')"
   ]
  },
  {
   "cell_type": "markdown",
   "metadata": {},
   "source": [
    "combine data and identification"
   ]
  },
  {
   "cell_type": "code",
   "execution_count": 57,
   "metadata": {},
   "outputs": [],
   "source": [
    "data_tweet = data_tweet.sort_values(by=['tweet_id'])\n",
    "data_identification = data_identification.sort_values(by=['tweet_id'])\n",
    "data = data_tweet.merge(data_identification)"
   ]
  },
  {
   "cell_type": "code",
   "execution_count": 58,
   "metadata": {},
   "outputs": [],
   "source": [
    "# Separate train and test data\n",
    "data_train = data[(data.identification == 'train')]\n",
    "data_test = data[(data.identification == 'test')]"
   ]
  },
  {
   "cell_type": "code",
   "execution_count": 59,
   "metadata": {},
   "outputs": [],
   "source": [
    "# combine train data and Label\n",
    "data_train = data_train.sort_values(by=['tweet_id'])\n",
    "data_emotion = data_emotion.sort_values(by=['tweet_id'])\n",
    "data_train = data_train.merge(data_emotion)"
   ]
  },
  {
   "cell_type": "code",
   "execution_count": 61,
   "metadata": {},
   "outputs": [],
   "source": [
    "# save processed data to .pkl file for easy using\n",
    "data_train.to_pickle('data_train.pkl')\n",
    "data_test.to_pickle('data_test.pkl')\n",
    "data.to_pickle('data.pkl')"
   ]
  },
  {
   "cell_type": "markdown",
   "metadata": {},
   "source": [
    "Actually, too many hashtags haave no emotion meanings So I think we don't need hashtags to do the predictions."
   ]
  },
  {
   "cell_type": "code",
   "execution_count": 62,
   "metadata": {},
   "outputs": [],
   "source": [
    "data_train = data_train[['tweet_id','text','emotion']]"
   ]
  },
  {
   "cell_type": "markdown",
   "metadata": {},
   "source": [
    "now we have data(text) and Label(emotion), then we need to change the text to feature and train the model."
   ]
  },
  {
   "cell_type": "code",
   "execution_count": 63,
   "metadata": {},
   "outputs": [],
   "source": [
    "#before we extract feature, we Separate the Test and train data from train data, test size = 0.1\n",
    "from sklearn.model_selection import train_test_split\n",
    "X_train, X_yaild, y_train, y_yaild = train_test_split(data_train, data_train, test_size=0.1)"
   ]
  },
  {
   "cell_type": "code",
   "execution_count": 64,
   "metadata": {},
   "outputs": [
    {
     "name": "stderr",
     "output_type": "stream",
     "text": [
      "/usr/local/lib/python3.8/dist-packages/sklearn/feature_extraction/text.py:1208: UserWarning: Upper case characters found in vocabulary while 'lowercase' is True. These entries will not be matched with any documents\n",
      "  warnings.warn(\n"
     ]
    }
   ],
   "source": [
    "# BOW\n",
    "from sklearn.feature_extraction.text import CountVectorizer\n",
    "# build analyzers (bag-of-words)\n",
    "BOW_vectorizer = CountVectorizer() \n",
    "# 1. Learn a vocabulary dictionary of all tokens in the raw documents.\n",
    "BOW_vectorizer.fit(X_train['text'])\n",
    "# 2. Transform documents to document-term matrix.\n",
    "\n",
    "X_train_BOW = BOW_vectorizer.transform(X_train['text'])\n",
    "y_train_BOW = y_train['emotion']\n",
    "X_yaild_BOW = BOW_vectorizer.transform(X_yaild['text'])\n",
    "y_yaild_BOW = y_yaild['emotion']\n",
    "test_data = BOW_vectorizer.transform(data_test['text'])\n",
    "\n",
    "X_train_bow1 = X_train_BOW\n",
    "y_train_bow1 = y_train_BOW\n",
    "\n",
    "X_test_bow1 = X_yaild_BOW\n",
    "y_test_bow1 = y_yaild_BOW"
   ]
  },
  {
   "cell_type": "code",
   "execution_count": 67,
   "metadata": {},
   "outputs": [
    {
     "name": "stdout",
     "output_type": "stream",
     "text": [
      "training accuracy: 0.62\n",
      "testing accuracy: 0.53\n",
      "              precision    recall  f1-score   support\n",
      "\n",
      "       anger       0.96      0.11      0.20      3944\n",
      "anticipation       0.60      0.53      0.56     24939\n",
      "     disgust       0.52      0.34      0.41     13786\n",
      "        fear       0.88      0.17      0.29      6366\n",
      "         joy       0.51      0.84      0.64     51468\n",
      "     sadness       0.49      0.48      0.48     19381\n",
      "    surprise       0.89      0.11      0.20      4893\n",
      "       trust       0.62      0.23      0.34     20780\n",
      "\n",
      "    accuracy                           0.53    145557\n",
      "   macro avg       0.68      0.35      0.39    145557\n",
      "weighted avg       0.58      0.53      0.50    145557\n",
      "\n",
      "[[  433   228   502     2  1823   897     2    57]\n",
      " [    3 13273   444    23  9449  1044    14   689]\n",
      " [    4   638  4647    10  4780  3469     7   231]\n",
      " [    2   537   225  1105  3747   625     2   123]\n",
      " [    2  3921   717    78 43483  1729    29  1509]\n",
      " [    3  1002  1501    21  7319  9209     8   318]\n",
      " [    0   311   437     8  2541   939   546   111]\n",
      " [    5  2386   445    15 12208   855     8  4858]]\n"
     ]
    },
    {
     "data": {
      "image/png": "[encoded data removed]",
      "text/plain": [
       "<Figure size 360x360 with 2 Axes>"
      ]
     },
     "metadata": {
      "needs_background": "light"
     },
     "output_type": "display_data"
    }
   ],
   "source": [
    "#model\n",
    "#Naive Bayes model\n",
    "from sklearn.naive_bayes import MultinomialNB\n",
    "BOW1_model = MultinomialNB()\n",
    "\n",
    "## training!\n",
    "BOW1_model = BOW1_model.fit(X_train_bow1, y_train_bow1)\n",
    "\n",
    "## predict!\n",
    "y_train_pred_bow1 = BOW1_model.predict(X_train_bow1)\n",
    "y_test_pred_bow1 = BOW1_model.predict(X_test_bow1)\n",
    "\n",
    "## so we get the pred result\n",
    "y_test_pred_bow1[:10]\n",
    "\n",
    "## accuracy\n",
    "\n",
    "acc_train = accuracy_score(y_true=y_train_bow1, y_pred=y_train_pred_bow1)\n",
    "acc_test = accuracy_score(y_true=y_test_bow1, y_pred=y_test_pred_bow1)\n",
    "\n",
    "print('training accuracy: {}'.format(round(acc_train, 2)))\n",
    "print('testing accuracy: {}'.format(round(acc_test, 2)))\n",
    "\n",
    "## precision, recall, f1-score\n",
    "\n",
    "print(classification_report(y_true=y_test_bow1, y_pred=y_test_pred_bow1))\n",
    "\n",
    "#plot confusion matrix\n",
    "\n",
    "cm = confusion_matrix(y_true=y_test_bow1, y_pred=y_test_pred_bow1) \n",
    "print(cm)\n",
    "\n",
    "# Funciton for visualizing confusion_matrix\n",
    "\n",
    "def plot_confusion_matrix(cm, classes, title='Confusion matrix',\n",
    "                          cmap=sns.cubehelix_palette(as_cmap=True)):\n",
    "    \"\"\"\n",
    "    This function is modified from: \n",
    "    http://scikit-learn.org/stable/auto_examples/model_selection/plot_confusion_matrix.html\n",
    "    \"\"\"\n",
    "    classes.sort()\n",
    "    tick_marks = np.arange(len(classes))    \n",
    "    \n",
    "    fig, ax = plt.subplots(figsize=(5,5))\n",
    "    im = ax.imshow(cm, interpolation='nearest', cmap=cmap)\n",
    "    ax.figure.colorbar(im, ax=ax)\n",
    "    ax.set(xticks=np.arange(cm.shape[1]),\n",
    "           yticks=np.arange(cm.shape[0]),\n",
    "           xticklabels = classes,\n",
    "           yticklabels = classes,\n",
    "           title = title,\n",
    "           xlabel = 'True label',\n",
    "           ylabel = 'Predicted label')\n",
    "\n",
    "    fmt = 'd'\n",
    "    thresh = cm.max() / 2.\n",
    "    for i, j in itertools.product(range(cm.shape[0]), range(cm.shape[1])):\n",
    "        plt.text(j, i, format(cm[i, j], fmt), horizontalalignment=\"center\", color=\"white\" if cm[i, j] > thresh else \"black\")\n",
    "    ylim_top = len(classes) - 0.5\n",
    "    plt.ylim([ylim_top, -.5])\n",
    "    plt.tight_layout()\n",
    "    plt.show()\n",
    "    \n",
    "# plot confusion matrix\n",
    "my_tags = ['anger', 'anticipation', 'disgust', 'fear', 'sadness', 'surprise', 'trust', 'joy']\n",
    "plot_confusion_matrix(cm, classes=my_tags, title='Confusion matrix')"
   ]
  },
  {
   "cell_type": "code",
   "execution_count": 70,
   "metadata": {},
   "outputs": [],
   "source": [
    "# This prediction in Kaggle is 0.44453\n",
    "BOW_ans = BOW1_model.predict(test_data)\n",
    "import numpy as np\n",
    "Bow_ans_array = np.array(BOW_ans)\n",
    "data_test_id = pd.DataFrame(data_test['tweet_id'])\n",
    "data_test_id = data_test_id.sort_values(by=['tweet_id'])\n",
    "data_test_id.reset_index(inplace=True, drop=True)\n",
    "Bow_ans_array = np.reshape(Bow_ans_array, (-1,1))\n",
    "Bow_ans_array\n",
    "Bow_ans_dataframe = pd.DataFrame(Bow_ans_array)\n",
    "Bow_ans_dataframe\n",
    "Bow_ans_dataframe_1 = data_test_id.merge(Bow_ans_dataframe,left_index=True, right_index=True)\n",
    "Bow_ans_dataframe_1\n",
    "Bow_ans_dataframe_1 = Bow_ans_dataframe_1.rename(columns={'tweet_id':'id'})\n",
    "Bow_ans_dataframe_1 = Bow_ans_dataframe_1.rename(columns={0:'emotion'})\n",
    "Bow_ans_dataframe_1\n",
    "Bow_ans_dataframe_1.to_csv('Bow_ans_dataframe.csv',\n",
    "                 index= False)"
   ]
  },
  {
   "cell_type": "markdown",
   "metadata": {},
   "source": [
    "### The BOW-Naive Bayes model is the best prediction in my kaggle"
   ]
  },
  {
   "cell_type": "code",
   "execution_count": 73,
   "metadata": {},
   "outputs": [
    {
     "name": "stderr",
     "output_type": "stream",
     "text": [
      "/usr/local/lib/python3.8/dist-packages/sklearn/linear_model/_logistic.py:814: ConvergenceWarning: lbfgs failed to converge (status=1):\n",
      "STOP: TOTAL NO. of ITERATIONS REACHED LIMIT.\n",
      "\n",
      "Increase the number of iterations (max_iter) or scale the data as shown in:\n",
      "    https://scikit-learn.org/stable/modules/preprocessing.html\n",
      "Please also refer to the documentation for alternative solver options:\n",
      "    https://scikit-learn.org/stable/modules/linear_model.html#logistic-regression\n",
      "  n_iter_i = _check_optimize_result(\n"
     ]
    },
    {
     "name": "stdout",
     "output_type": "stream",
     "text": [
      "training accuracy: 0.56\n",
      "testing accuracy: 0.54\n",
      "              precision    recall  f1-score   support\n",
      "\n",
      "       anger       0.59      0.25      0.35      3944\n",
      "anticipation       0.61      0.52      0.56     24939\n",
      "     disgust       0.50      0.36      0.42     13786\n",
      "        fear       0.69      0.32      0.44      6366\n",
      "         joy       0.53      0.82      0.64     51468\n",
      "     sadness       0.51      0.45      0.48     19381\n",
      "    surprise       0.62      0.21      0.31      4893\n",
      "       trust       0.56      0.29      0.38     20780\n",
      "\n",
      "    accuracy                           0.54    145557\n",
      "   macro avg       0.58      0.40      0.45    145557\n",
      "weighted avg       0.55      0.54      0.52    145557\n",
      "\n",
      "[[  976   231   481    26  1397   710    22   101]\n",
      " [   72 12923   556   126  9181   972    80  1029]\n",
      " [  175   685  4959   133  4543  2815   119   357]\n",
      " [   31   464   286  2041  2854   490    32   168]\n",
      " [  141  3496   909   264 42132  1906   153  2467]\n",
      " [  172  1017  1859   189  6702  8795   139   508]\n",
      " [   30   330   413    56  2191   714  1012   147]\n",
      " [   50  1999   551   102 11035   883    69  6091]]\n"
     ]
    }
   ],
   "source": [
    "#BOW-logistic regression\n",
    "#this result is the next model I try, but it wasn't better than BOW-Naive Bayes\n",
    "#This prediction in Kaggle is 0.44062\n",
    "from sklearn.linear_model  import LogisticRegression\n",
    "## build BOW-logistic regression model\n",
    "BOW1_model = LogisticRegression()\n",
    "\n",
    "## training!\n",
    "BOW1_model = BOW1_model.fit(X_train_bow1, y_train_bow1)\n",
    "\n",
    "## predict!\n",
    "y_train_pred_bow1 = BOW1_model.predict(X_train_bow1)\n",
    "y_test_pred_bow1 = BOW1_model.predict(X_test_bow1)\n",
    "\n",
    "## so we get the pred result\n",
    "y_test_pred_bow1[:10]\n",
    "\n",
    "## accuracy\n",
    "\n",
    "acc_train = accuracy_score(y_true=y_train_bow1, y_pred=y_train_pred_bow1)\n",
    "acc_test = accuracy_score(y_true=y_test_bow1, y_pred=y_test_pred_bow1)\n",
    "\n",
    "print('training accuracy: {}'.format(round(acc_train, 2)))\n",
    "print('testing accuracy: {}'.format(round(acc_test, 2)))\n",
    "\n",
    "## precision, recall, f1-score\n",
    "\n",
    "print(classification_report(y_true=y_test_bow1, y_pred=y_test_pred_bow1))\n",
    "\n",
    "#plot confusion matrix\n",
    "\n",
    "cm = confusion_matrix(y_true=y_test_bow1, y_pred=y_test_pred_bow1) \n",
    "print(cm)"
   ]
  },
  {
   "cell_type": "code",
   "execution_count": 75,
   "metadata": {},
   "outputs": [],
   "source": [
    "import numpy as np\n",
    "lr_ans = BOW1_model.predict(test_data)\n",
    "lr_ans_array = np.array(lr_ans)\n",
    "data_test_id = pd.DataFrame(data_test['tweet_id'])\n",
    "data_test_id = data_test_id.sort_values(by=['tweet_id'])\n",
    "data_test_id.reset_index(inplace=True, drop=True)\n",
    "lr_ans_array = np.reshape(lr_ans_array, (-1,1))\n",
    "lr_ans_array\n",
    "lr_ans_dataframe = pd.DataFrame(lr_ans_array)\n",
    "lr_ans_dataframe\n",
    "lr_ans_dataframe_1 = data_test_id.merge(lr_ans_dataframe,left_index=True, right_index=True)\n",
    "lr_ans_dataframe_1\n",
    "lr_ans_dataframe_1 = lr_ans_dataframe_1.rename(columns={'tweet_id':'id'})\n",
    "lr_ans_dataframe_1 = lr_ans_dataframe_1.rename(columns={0:'emotion'})\n",
    "lr_ans_dataframe_1\n",
    "lr_ans_dataframe_1.to_csv('lr_ans_nltk_dataframe.csv',\n",
    "                 index= False)"
   ]
  },
  {
   "cell_type": "markdown",
   "metadata": {},
   "source": [
    "As we can see the result of BOW-logistic regression is lower than BOW-Naive Bayes \n",
    "so that the result in Kaggle is also lower."
   ]
  },
  {
   "cell_type": "markdown",
   "metadata": {},
   "source": [
    "In addition to the BOW, I also try another features but their is not real good in my computer verify calculations"
   ]
  },
  {
   "cell_type": "markdown",
   "metadata": {},
   "source": [
    "## BOW-nltk"
   ]
  },
  {
   "cell_type": "code",
   "execution_count": 76,
   "metadata": {},
   "outputs": [
    {
     "name": "stderr",
     "output_type": "stream",
     "text": [
      "/usr/local/lib/python3.8/dist-packages/sklearn/feature_extraction/text.py:516: UserWarning: The parameter 'token_pattern' will not be used since 'tokenizer' is not None'\n",
      "  warnings.warn(\n"
     ]
    }
   ],
   "source": [
    "#nltk 500\n",
    "import nltk\n",
    "\n",
    "# build analyzers (bag-of-words)\n",
    "BOW_500_vectorizer = CountVectorizer(max_features=500, tokenizer=nltk.word_tokenize)\n",
    "\n",
    "# 1. Learn a vocabulary dictionary of all tokens in the raw documents.\n",
    "BOW_500_vectorizer.fit(X_train['text'])\n",
    "# 2. Transform documents to document-term matrix.\n",
    "\n",
    "X_train_BOW_500 = BOW_500_vectorizer.transform(X_train['text'])\n",
    "y_train_BOW_500 = y_train['emotion']\n",
    "X_yaild_BOW_500 = BOW_500_vectorizer.transform(X_yaild['text'])\n",
    "y_yaild_BOW_500 = y_yaild['emotion']\n",
    "test_data_500 = BOW_500_vectorizer.transform(data_test['text'])\n",
    "\n",
    "X_train_bow1 = X_train_BOW_500\n",
    "y_train_bow1 = y_train_BOW_500\n",
    "\n",
    "X_test_bow1 = X_yaild_BOW_500\n",
    "y_test_bow1 = y_yaild_BOW_500"
   ]
  },
  {
   "cell_type": "code",
   "execution_count": 77,
   "metadata": {},
   "outputs": [
    {
     "name": "stdout",
     "output_type": "stream",
     "text": [
      "training accuracy: 0.42\n",
      "testing accuracy: 0.42\n",
      "              precision    recall  f1-score   support\n",
      "\n",
      "       anger       0.17      0.12      0.14      3944\n",
      "anticipation       0.45      0.42      0.44     24939\n",
      "     disgust       0.29      0.31      0.30     13786\n",
      "        fear       0.18      0.12      0.15      6366\n",
      "         joy       0.48      0.63      0.55     51468\n",
      "     sadness       0.36      0.36      0.36     19381\n",
      "    surprise       0.43      0.12      0.18      4893\n",
      "       trust       0.36      0.21      0.26     20780\n",
      "\n",
      "    accuracy                           0.42    145557\n",
      "   macro avg       0.34      0.29      0.30    145557\n",
      "weighted avg       0.40      0.42      0.40    145557\n",
      "\n",
      "[[  479   336   672   172  1473   611    26   175]\n",
      " [  294 10512  1582   626  8360  1791   103  1671]\n",
      " [  302  1011  4289   444  4173  2974   121   472]\n",
      " [  111   589   797   794  3009   789    29   248]\n",
      " [  742  6142  2417  1263 32550  3783   237  4334]\n",
      " [  513  1394  3188   593  5819  7034   144   696]\n",
      " [  106   391   834   171  1815   831   566   179]\n",
      " [  265  2956  1172   409 10023  1541   104  4310]]\n"
     ]
    }
   ],
   "source": [
    "from sklearn.naive_bayes import MultinomialNB\n",
    "## build Naive Bayes model\n",
    "BOW1_model = MultinomialNB()\n",
    "\n",
    "## training!\n",
    "BOW1_model = BOW1_model.fit(X_train_bow1, y_train_bow1)\n",
    "\n",
    "## predict!\n",
    "y_train_pred_bow1 = BOW1_model.predict(X_train_bow1)\n",
    "y_test_pred_bow1 = BOW1_model.predict(X_test_bow1)\n",
    "\n",
    "## so we get the pred result\n",
    "y_test_pred_bow1[:10]\n",
    "\n",
    "## accuracy\n",
    "from sklearn.metrics import accuracy_score\n",
    "\n",
    "acc_train = accuracy_score(y_true=y_train_bow1, y_pred=y_train_pred_bow1)\n",
    "acc_test = accuracy_score(y_true=y_test_bow1, y_pred=y_test_pred_bow1)\n",
    "\n",
    "print('training accuracy: {}'.format(round(acc_train, 2)))\n",
    "print('testing accuracy: {}'.format(round(acc_test, 2)))\n",
    "\n",
    "## precision, recall, f1-score\n",
    "\n",
    "from sklearn.metrics import classification_report\n",
    "\n",
    "print(classification_report(y_true=y_test_bow1, y_pred=y_test_pred_bow1))\n",
    "\n",
    "#plot confusion matrix\n",
    "\n",
    "from sklearn.metrics import confusion_matrix\n",
    "\n",
    "cm = confusion_matrix(y_true=y_test_bow1, y_pred=y_test_pred_bow1) \n",
    "print(cm)"
   ]
  },
  {
   "cell_type": "code",
   "execution_count": 79,
   "metadata": {},
   "outputs": [
    {
     "name": "stderr",
     "output_type": "stream",
     "text": [
      "/usr/local/lib/python3.8/dist-packages/sklearn/linear_model/_logistic.py:814: ConvergenceWarning: lbfgs failed to converge (status=1):\n",
      "STOP: TOTAL NO. of ITERATIONS REACHED LIMIT.\n",
      "\n",
      "Increase the number of iterations (max_iter) or scale the data as shown in:\n",
      "    https://scikit-learn.org/stable/modules/preprocessing.html\n",
      "Please also refer to the documentation for alternative solver options:\n",
      "    https://scikit-learn.org/stable/modules/linear_model.html#logistic-regression\n",
      "  n_iter_i = _check_optimize_result(\n"
     ]
    },
    {
     "name": "stdout",
     "output_type": "stream",
     "text": [
      "training accuracy: 0.46\n",
      "testing accuracy: 0.46\n",
      "              precision    recall  f1-score   support\n",
      "\n",
      "       anger       0.66      0.06      0.11      3944\n",
      "anticipation       0.54      0.40      0.46     24939\n",
      "     disgust       0.39      0.21      0.27     13786\n",
      "        fear       0.38      0.06      0.11      6366\n",
      "         joy       0.45      0.84      0.59     51468\n",
      "     sadness       0.45      0.34      0.39     19381\n",
      "    surprise       0.59      0.11      0.19      4893\n",
      "       trust       0.51      0.13      0.21     20780\n",
      "\n",
      "    accuracy                           0.46    145557\n",
      "   macro avg       0.49      0.27      0.29    145557\n",
      "weighted avg       0.47      0.46      0.41    145557\n",
      "\n",
      "[[  227   250   375    28  2354   639    11    60]\n",
      " [   11  9917   607   125 12517  1115    61   586]\n",
      " [   31   809  2923    98  7199  2494    60   172]\n",
      " [   14   475   424   410  4353   591    16    83]\n",
      " [   25  3526   922   182 43473  1816    99  1425]\n",
      " [   23  1082  1470   110  9725  6643    77   251]\n",
      " [    3   265   397    40  2916   675   539    58]\n",
      " [   12  2092   464    78 14497   901    46  2690]]\n"
     ]
    }
   ],
   "source": [
    "#nltk 500-lr\n",
    "#BOW-logistic regression\n",
    "#this result is the next model I try, but it wasn't better than BOW-Naive Bayes\n",
    "#This prediction in Kaggle is 0.44062\n",
    "from sklearn.linear_model  import LogisticRegression\n",
    "## build BOW-logistic regression model\n",
    "BOW1_model = LogisticRegression()\n",
    "\n",
    "## training!\n",
    "BOW1_model = BOW1_model.fit(X_train_bow1, y_train_bow1)\n",
    "\n",
    "## predict!\n",
    "y_train_pred_bow1 = BOW1_model.predict(X_train_bow1)\n",
    "y_test_pred_bow1 = BOW1_model.predict(X_test_bow1)\n",
    "\n",
    "## so we get the pred result\n",
    "y_test_pred_bow1[:10]\n",
    "\n",
    "## accuracy\n",
    "\n",
    "acc_train = accuracy_score(y_true=y_train_bow1, y_pred=y_train_pred_bow1)\n",
    "acc_test = accuracy_score(y_true=y_test_bow1, y_pred=y_test_pred_bow1)\n",
    "\n",
    "print('training accuracy: {}'.format(round(acc_train, 2)))\n",
    "print('testing accuracy: {}'.format(round(acc_test, 2)))\n",
    "\n",
    "## precision, recall, f1-score\n",
    "\n",
    "print(classification_report(y_true=y_test_bow1, y_pred=y_test_pred_bow1))\n",
    "\n",
    "#plot confusion matrix\n",
    "\n",
    "cm = confusion_matrix(y_true=y_test_bow1, y_pred=y_test_pred_bow1) \n",
    "print(cm)"
   ]
  },
  {
   "cell_type": "code",
   "execution_count": 80,
   "metadata": {},
   "outputs": [
    {
     "name": "stderr",
     "output_type": "stream",
     "text": [
      "/usr/local/lib/python3.8/dist-packages/sklearn/feature_extraction/text.py:516: UserWarning: The parameter 'token_pattern' will not be used since 'tokenizer' is not None'\n",
      "  warnings.warn(\n"
     ]
    }
   ],
   "source": [
    "#nltk 1000\n",
    "\n",
    "import nltk\n",
    "\n",
    "# build analyzers (bag-of-words)\n",
    "BOW_1000_vectorizer = CountVectorizer(max_features=1000, tokenizer=nltk.word_tokenize)\n",
    "\n",
    "# 1. Learn a vocabulary dictionary of all tokens in the raw documents.\n",
    "BOW_1000_vectorizer.fit(X_train['text'])\n",
    "# 2. Transform documents to document-term matrix.\n",
    "\n",
    "X_train_BOW_1000 = BOW_500_vectorizer.transform(X_train['text'])\n",
    "y_train_BOW_1000 = y_train['emotion']\n",
    "X_yaild_BOW_1000 = BOW_500_vectorizer.transform(X_yaild['text'])\n",
    "y_yaild_BOW_1000 = y_yaild['emotion']\n",
    "test_data_1000 = BOW_500_vectorizer.transform(data_test['text'])\n",
    "\n",
    "X_train_bow1 = X_train_BOW_1000\n",
    "y_train_bow1 = y_train_BOW_1000\n",
    "\n",
    "X_test_bow1 = X_yaild_BOW_1000\n",
    "y_test_bow1 = y_yaild_BOW_1000"
   ]
  },
  {
   "cell_type": "code",
   "execution_count": 81,
   "metadata": {},
   "outputs": [
    {
     "name": "stdout",
     "output_type": "stream",
     "text": [
      "training accuracy: 0.42\n",
      "testing accuracy: 0.42\n",
      "              precision    recall  f1-score   support\n",
      "\n",
      "       anger       0.17      0.12      0.14      3944\n",
      "anticipation       0.45      0.42      0.44     24939\n",
      "     disgust       0.29      0.31      0.30     13786\n",
      "        fear       0.18      0.12      0.15      6366\n",
      "         joy       0.48      0.63      0.55     51468\n",
      "     sadness       0.36      0.36      0.36     19381\n",
      "    surprise       0.43      0.12      0.18      4893\n",
      "       trust       0.36      0.21      0.26     20780\n",
      "\n",
      "    accuracy                           0.42    145557\n",
      "   macro avg       0.34      0.29      0.30    145557\n",
      "weighted avg       0.40      0.42      0.40    145557\n",
      "\n",
      "[[  479   336   672   172  1473   611    26   175]\n",
      " [  294 10512  1582   626  8360  1791   103  1671]\n",
      " [  302  1011  4289   444  4173  2974   121   472]\n",
      " [  111   589   797   794  3009   789    29   248]\n",
      " [  742  6142  2417  1263 32550  3783   237  4334]\n",
      " [  513  1394  3188   593  5819  7034   144   696]\n",
      " [  106   391   834   171  1815   831   566   179]\n",
      " [  265  2956  1172   409 10023  1541   104  4310]]\n"
     ]
    }
   ],
   "source": [
    "from sklearn.naive_bayes import MultinomialNB\n",
    "## build Naive Bayes model\n",
    "BOW1_model = MultinomialNB()\n",
    "\n",
    "## training!\n",
    "BOW1_model = BOW1_model.fit(X_train_bow1, y_train_bow1)\n",
    "\n",
    "## predict!\n",
    "y_train_pred_bow1 = BOW1_model.predict(X_train_bow1)\n",
    "y_test_pred_bow1 = BOW1_model.predict(X_test_bow1)\n",
    "\n",
    "## so we get the pred result\n",
    "y_test_pred_bow1[:10]\n",
    "\n",
    "## accuracy\n",
    "from sklearn.metrics import accuracy_score\n",
    "\n",
    "acc_train = accuracy_score(y_true=y_train_bow1, y_pred=y_train_pred_bow1)\n",
    "acc_test = accuracy_score(y_true=y_test_bow1, y_pred=y_test_pred_bow1)\n",
    "\n",
    "print('training accuracy: {}'.format(round(acc_train, 2)))\n",
    "print('testing accuracy: {}'.format(round(acc_test, 2)))\n",
    "\n",
    "## precision, recall, f1-score\n",
    "\n",
    "from sklearn.metrics import classification_report\n",
    "\n",
    "print(classification_report(y_true=y_test_bow1, y_pred=y_test_pred_bow1))\n",
    "\n",
    "#plot confusion matrix\n",
    "\n",
    "from sklearn.metrics import confusion_matrix\n",
    "\n",
    "cm = confusion_matrix(y_true=y_test_bow1, y_pred=y_test_pred_bow1) \n",
    "print(cm)"
   ]
  },
  {
   "cell_type": "code",
   "execution_count": 82,
   "metadata": {},
   "outputs": [
    {
     "name": "stderr",
     "output_type": "stream",
     "text": [
      "/usr/local/lib/python3.8/dist-packages/sklearn/linear_model/_logistic.py:814: ConvergenceWarning: lbfgs failed to converge (status=1):\n",
      "STOP: TOTAL NO. of ITERATIONS REACHED LIMIT.\n",
      "\n",
      "Increase the number of iterations (max_iter) or scale the data as shown in:\n",
      "    https://scikit-learn.org/stable/modules/preprocessing.html\n",
      "Please also refer to the documentation for alternative solver options:\n",
      "    https://scikit-learn.org/stable/modules/linear_model.html#logistic-regression\n",
      "  n_iter_i = _check_optimize_result(\n"
     ]
    },
    {
     "name": "stdout",
     "output_type": "stream",
     "text": [
      "training accuracy: 0.46\n",
      "testing accuracy: 0.46\n",
      "              precision    recall  f1-score   support\n",
      "\n",
      "       anger       0.66      0.06      0.11      3944\n",
      "anticipation       0.54      0.40      0.46     24939\n",
      "     disgust       0.39      0.21      0.27     13786\n",
      "        fear       0.38      0.06      0.11      6366\n",
      "         joy       0.45      0.84      0.59     51468\n",
      "     sadness       0.45      0.34      0.39     19381\n",
      "    surprise       0.59      0.11      0.19      4893\n",
      "       trust       0.51      0.13      0.21     20780\n",
      "\n",
      "    accuracy                           0.46    145557\n",
      "   macro avg       0.49      0.27      0.29    145557\n",
      "weighted avg       0.47      0.46      0.41    145557\n",
      "\n",
      "[[  227   250   375    28  2354   639    11    60]\n",
      " [   11  9917   607   125 12517  1115    61   586]\n",
      " [   31   809  2923    98  7199  2494    60   172]\n",
      " [   14   475   424   410  4353   591    16    83]\n",
      " [   25  3526   922   182 43473  1816    99  1425]\n",
      " [   23  1082  1470   110  9725  6643    77   251]\n",
      " [    3   265   397    40  2916   675   539    58]\n",
      " [   12  2092   464    78 14497   901    46  2690]]\n"
     ]
    }
   ],
   "source": [
    "#nltk 1000-lr\n",
    "#BOW-logistic regression\n",
    "#this result is the next model I try, but it wasn't better than BOW-Naive Bayes\n",
    "#This prediction in Kaggle is 0.44062\n",
    "from sklearn.linear_model  import LogisticRegression\n",
    "## build BOW-logistic regression model\n",
    "BOW1_model = LogisticRegression()\n",
    "\n",
    "## training!\n",
    "BOW1_model = BOW1_model.fit(X_train_bow1, y_train_bow1)\n",
    "\n",
    "## predict!\n",
    "y_train_pred_bow1 = BOW1_model.predict(X_train_bow1)\n",
    "y_test_pred_bow1 = BOW1_model.predict(X_test_bow1)\n",
    "\n",
    "## so we get the pred result\n",
    "y_test_pred_bow1[:10]\n",
    "\n",
    "## accuracy\n",
    "\n",
    "acc_train = accuracy_score(y_true=y_train_bow1, y_pred=y_train_pred_bow1)\n",
    "acc_test = accuracy_score(y_true=y_test_bow1, y_pred=y_test_pred_bow1)\n",
    "\n",
    "print('training accuracy: {}'.format(round(acc_train, 2)))\n",
    "print('testing accuracy: {}'.format(round(acc_test, 2)))\n",
    "\n",
    "## precision, recall, f1-score\n",
    "\n",
    "print(classification_report(y_true=y_test_bow1, y_pred=y_test_pred_bow1))\n",
    "\n",
    "#plot confusion matrix\n",
    "\n",
    "cm = confusion_matrix(y_true=y_test_bow1, y_pred=y_test_pred_bow1) \n",
    "print(cm)"
   ]
  },
  {
   "cell_type": "markdown",
   "metadata": {},
   "source": [
    "## TFIDF"
   ]
  },
  {
   "cell_type": "code",
   "execution_count": 83,
   "metadata": {},
   "outputs": [],
   "source": [
    "from sklearn.feature_extraction.text import TfidfVectorizer\n",
    "tfidf_vectorizer = TfidfVectorizer(max_features=1000)\n",
    "# 1. Learn a vocabulary dictionary of all tokens in the raw documents.\n",
    "tfidf_vectorizer.fit(X_train['text'])\n",
    "# 2. Transform documents to document-term matrix.\n",
    "\n",
    "X_train_tfidf_1000 = tfidf_vectorizer.transform(X_train['text'])\n",
    "y_train_tfidf_1000 = y_train['emotion']\n",
    "X_yaild_tfidf_1000 = tfidf_vectorizer.transform(X_yaild['text'])\n",
    "y_yaild_tfidf_1000 = y_yaild['emotion']\n",
    "test_data_1000 = BOW_500_vectorizer.transform(data_test['text'])\n",
    "\n",
    "X_train_bow1 = X_train_tfidf_1000\n",
    "y_train_bow1 = y_train_tfidf_1000\n",
    "\n",
    "X_test_bow1 = X_yaild_tfidf_1000\n",
    "y_test_bow1 = y_yaild_tfidf_1000"
   ]
  },
  {
   "cell_type": "code",
   "execution_count": 84,
   "metadata": {},
   "outputs": [
    {
     "name": "stdout",
     "output_type": "stream",
     "text": [
      "training accuracy: 0.46\n",
      "testing accuracy: 0.46\n",
      "              precision    recall  f1-score   support\n",
      "\n",
      "       anger       0.89      0.05      0.09      3944\n",
      "anticipation       0.60      0.34      0.43     24939\n",
      "     disgust       0.55      0.15      0.24     13786\n",
      "        fear       0.85      0.16      0.27      6366\n",
      "         joy       0.42      0.92      0.58     51468\n",
      "     sadness       0.51      0.30      0.38     19381\n",
      "    surprise       0.78      0.05      0.09      4893\n",
      "       trust       0.70      0.09      0.15     20780\n",
      "\n",
      "    accuracy                           0.46    145557\n",
      "   macro avg       0.66      0.26      0.28    145557\n",
      "weighted avg       0.56      0.46      0.39    145557\n",
      "\n",
      "[[  190   142   183     9  3019   391     0    10]\n",
      " [    5  8454   193    31 15367   745     6   138]\n",
      " [    5   469  2086    26  9127  2016    11    46]\n",
      " [    0   337   117  1038  4577   273     3    21]\n",
      " [    6  2399   271    55 47131  1086    22   498]\n",
      " [    5   704   651    35 12040  5870    17    59]\n",
      " [    1   178   152     8  3778   525   236    15]\n",
      " [    2  1502   149    17 16742   563     6  1799]]\n"
     ]
    }
   ],
   "source": [
    "from sklearn.naive_bayes import MultinomialNB\n",
    "## build Naive Bayes model\n",
    "BOW1_model = MultinomialNB()\n",
    "\n",
    "## training!\n",
    "BOW1_model = BOW1_model.fit(X_train_bow1, y_train_bow1)\n",
    "\n",
    "## predict!\n",
    "y_train_pred_bow1 = BOW1_model.predict(X_train_bow1)\n",
    "y_test_pred_bow1 = BOW1_model.predict(X_test_bow1)\n",
    "\n",
    "## so we get the pred result\n",
    "y_test_pred_bow1[:10]\n",
    "\n",
    "## accuracy\n",
    "from sklearn.metrics import accuracy_score\n",
    "\n",
    "acc_train = accuracy_score(y_true=y_train_bow1, y_pred=y_train_pred_bow1)\n",
    "acc_test = accuracy_score(y_true=y_test_bow1, y_pred=y_test_pred_bow1)\n",
    "\n",
    "print('training accuracy: {}'.format(round(acc_train, 2)))\n",
    "print('testing accuracy: {}'.format(round(acc_test, 2)))\n",
    "\n",
    "## precision, recall, f1-score\n",
    "\n",
    "from sklearn.metrics import classification_report\n",
    "\n",
    "print(classification_report(y_true=y_test_bow1, y_pred=y_test_pred_bow1))\n",
    "\n",
    "#plot confusion matrix\n",
    "\n",
    "from sklearn.metrics import confusion_matrix\n",
    "\n",
    "cm = confusion_matrix(y_true=y_test_bow1, y_pred=y_test_pred_bow1) \n",
    "print(cm)"
   ]
  },
  {
   "cell_type": "code",
   "execution_count": 85,
   "metadata": {},
   "outputs": [
    {
     "name": "stderr",
     "output_type": "stream",
     "text": [
      "/usr/local/lib/python3.8/dist-packages/sklearn/linear_model/_logistic.py:814: ConvergenceWarning: lbfgs failed to converge (status=1):\n",
      "STOP: TOTAL NO. of ITERATIONS REACHED LIMIT.\n",
      "\n",
      "Increase the number of iterations (max_iter) or scale the data as shown in:\n",
      "    https://scikit-learn.org/stable/modules/preprocessing.html\n",
      "Please also refer to the documentation for alternative solver options:\n",
      "    https://scikit-learn.org/stable/modules/linear_model.html#logistic-regression\n",
      "  n_iter_i = _check_optimize_result(\n"
     ]
    },
    {
     "name": "stdout",
     "output_type": "stream",
     "text": [
      "training accuracy: 0.49\n",
      "testing accuracy: 0.48\n",
      "              precision    recall  f1-score   support\n",
      "\n",
      "       anger       0.55      0.07      0.13      3944\n",
      "anticipation       0.53      0.46      0.49     24939\n",
      "     disgust       0.41      0.25      0.31     13786\n",
      "        fear       0.69      0.21      0.32      6366\n",
      "         joy       0.47      0.81      0.60     51468\n",
      "     sadness       0.47      0.38      0.42     19381\n",
      "    surprise       0.50      0.11      0.18      4893\n",
      "       trust       0.53      0.20      0.29     20780\n",
      "\n",
      "    accuracy                           0.48    145557\n",
      "   macro avg       0.52      0.31      0.34    145557\n",
      "weighted avg       0.50      0.48      0.45    145557\n",
      "\n",
      "[[  294   319   475    23  2100   643    22    68]\n",
      " [   29 11585   574   108 10626  1139    65   813]\n",
      " [   51   987  3468    94  6325  2534    90   237]\n",
      " [   23   559   350  1344  3436   507    28   119]\n",
      " [   60  4211  1019   197 41825  1978   145  2033]\n",
      " [   53  1410  1581    92  8462  7358   121   304]\n",
      " [    8   368   407    37  2784   690   520    79]\n",
      " [   17  2526   498    64 12592   897    47  4139]]\n"
     ]
    }
   ],
   "source": [
    "#nltk 1000-lr\n",
    "#BOW-logistic regression\n",
    "#this result is the next model I try, but it wasn't better than BOW-Naive Bayes\n",
    "#This prediction in Kaggle is 0.44062\n",
    "from sklearn.linear_model  import LogisticRegression\n",
    "## build BOW-logistic regression model\n",
    "BOW1_model = LogisticRegression()\n",
    "\n",
    "## training!\n",
    "BOW1_model = BOW1_model.fit(X_train_bow1, y_train_bow1)\n",
    "\n",
    "## predict!\n",
    "y_train_pred_bow1 = BOW1_model.predict(X_train_bow1)\n",
    "y_test_pred_bow1 = BOW1_model.predict(X_test_bow1)\n",
    "\n",
    "## so we get the pred result\n",
    "y_test_pred_bow1[:10]\n",
    "\n",
    "## accuracy\n",
    "\n",
    "acc_train = accuracy_score(y_true=y_train_bow1, y_pred=y_train_pred_bow1)\n",
    "acc_test = accuracy_score(y_true=y_test_bow1, y_pred=y_test_pred_bow1)\n",
    "\n",
    "print('training accuracy: {}'.format(round(acc_train, 2)))\n",
    "print('testing accuracy: {}'.format(round(acc_test, 2)))\n",
    "\n",
    "## precision, recall, f1-score\n",
    "\n",
    "print(classification_report(y_true=y_test_bow1, y_pred=y_test_pred_bow1))\n",
    "\n",
    "#plot confusion matrix\n",
    "\n",
    "cm = confusion_matrix(y_true=y_test_bow1, y_pred=y_test_pred_bow1) \n",
    "print(cm)"
   ]
  },
  {
   "cell_type": "markdown",
   "metadata": {},
   "source": [
    "### as we can see, when I change the feature extract method, the result has no increased, so I try to do more process for the text."
   ]
  },
  {
   "cell_type": "markdown",
   "metadata": {},
   "source": [
    "# remore <lh> and 0123456789 and''- the digital may have not emotion meaning, so I try to remove them"
   ]
  },
  {
   "cell_type": "code",
   "execution_count": 88,
   "metadata": {},
   "outputs": [],
   "source": [
    "data_train['text'] = pd.DataFrame(data_train['text'].str.lower())\n",
    "data_test = pd.read_pickle('data_test.pkl')\n",
    "data_train['text'] = pd.DataFrame(data_train['text'].str.replace('0',''))\n",
    "data_train['text'] = pd.DataFrame(data_train['text'].str.replace('1',''))\n",
    "data_train['text'] = pd.DataFrame(data_train['text'].str.replace('2',''))\n",
    "data_train['text'] = pd.DataFrame(data_train['text'].str.replace('3',''))\n",
    "data_train['text'] = pd.DataFrame(data_train['text'].str.replace('4',''))\n",
    "data_train['text'] = pd.DataFrame(data_train['text'].str.replace('5',''))\n",
    "data_train['text'] = pd.DataFrame(data_train['text'].str.replace('6',''))\n",
    "data_train['text'] = pd.DataFrame(data_train['text'].str.replace('7',''))\n",
    "data_train['text'] = pd.DataFrame(data_train['text'].str.replace('8',''))\n",
    "data_train['text'] = pd.DataFrame(data_train['text'].str.replace('9',''))\n",
    "data_train['text'] = pd.DataFrame(data_train['text'].str.replace('_',' '))\n",
    "data_train['text'] = pd.DataFrame(data_train['text'].str.replace('<lh>',''))"
   ]
  },
  {
   "cell_type": "code",
   "execution_count": 89,
   "metadata": {},
   "outputs": [],
   "source": [
    "from sklearn.model_selection import train_test_split\n",
    "X_train, X_yaild, y_train, y_yaild = train_test_split(data_train, data_train, test_size=0.1)"
   ]
  },
  {
   "cell_type": "code",
   "execution_count": 90,
   "metadata": {},
   "outputs": [
    {
     "name": "stderr",
     "output_type": "stream",
     "text": [
      "/usr/local/lib/python3.8/dist-packages/sklearn/feature_extraction/text.py:1208: UserWarning: Upper case characters found in vocabulary while 'lowercase' is True. These entries will not be matched with any documents\n",
      "  warnings.warn(\n"
     ]
    }
   ],
   "source": [
    "from sklearn.feature_extraction.text import CountVectorizer\n",
    "# build analyzers (bag-of-words)\n",
    "BOW_vectorizer = CountVectorizer() \n",
    "# 1. Learn a vocabulary dictionary of all tokens in the raw documents.\n",
    "BOW_vectorizer.fit(X_train['text'])\n",
    "# 2. Transform documents to document-term matrix.\n",
    "\n",
    "X_train_BOW = BOW_vectorizer.transform(X_train['text'])\n",
    "y_train_BOW = y_train['emotion']\n",
    "X_yaild_BOW = BOW_vectorizer.transform(X_yaild['text'])\n",
    "y_yaild_BOW = y_yaild['emotion']\n",
    "test_data = BOW_vectorizer.transform(data_test['text'])\n",
    "\n",
    "X_train_bow1 = X_train_BOW\n",
    "y_train_bow1 = y_train_BOW\n",
    "\n",
    "X_test_bow1 = X_yaild_BOW\n",
    "y_test_bow1 = y_yaild_BOW"
   ]
  },
  {
   "cell_type": "code",
   "execution_count": 91,
   "metadata": {},
   "outputs": [
    {
     "name": "stdout",
     "output_type": "stream",
     "text": [
      "training accuracy: 0.61\n",
      "testing accuracy: 0.53\n",
      "              precision    recall  f1-score   support\n",
      "\n",
      "       anger       0.91      0.10      0.18      3949\n",
      "anticipation       0.58      0.54      0.56     24982\n",
      "     disgust       0.49      0.35      0.41     13901\n",
      "        fear       0.85      0.20      0.33      6487\n",
      "         joy       0.51      0.83      0.63     51547\n",
      "     sadness       0.49      0.47      0.48     19480\n",
      "    surprise       0.84      0.12      0.21      4863\n",
      "       trust       0.59      0.24      0.34     20348\n",
      "\n",
      "    accuracy                           0.53    145557\n",
      "   macro avg       0.66      0.36      0.39    145557\n",
      "weighted avg       0.57      0.53      0.50    145557\n",
      "\n",
      "[[  396   267   509     9  1832   876     1    59]\n",
      " [    1 13455   508    25  9115  1131    17   730]\n",
      " [    6   711  4800    27  4741  3407    13   196]\n",
      " [    3   591   282  1315  3502   658     4   132]\n",
      " [   12  4176   947   113 42616  1888    47  1748]\n",
      " [    9  1015  1697    30  7170  9206    10   343]\n",
      " [    1   323   460    15  2502   861   574   127]\n",
      " [    6  2474   562    22 11521   865    17  4881]]\n"
     ]
    }
   ],
   "source": [
    "from sklearn.naive_bayes import MultinomialNB\n",
    "## build Naive Bayes model\n",
    "BOW1_model = MultinomialNB()\n",
    "\n",
    "## training!\n",
    "BOW1_model = BOW1_model.fit(X_train_bow1, y_train_bow1)\n",
    "\n",
    "## predict!\n",
    "y_train_pred_bow1 = BOW1_model.predict(X_train_bow1)\n",
    "y_test_pred_bow1 = BOW1_model.predict(X_test_bow1)\n",
    "\n",
    "## so we get the pred result\n",
    "y_test_pred_bow1[:10]\n",
    "\n",
    "## accuracy\n",
    "from sklearn.metrics import accuracy_score\n",
    "\n",
    "acc_train = accuracy_score(y_true=y_train_bow1, y_pred=y_train_pred_bow1)\n",
    "acc_test = accuracy_score(y_true=y_test_bow1, y_pred=y_test_pred_bow1)\n",
    "\n",
    "print('training accuracy: {}'.format(round(acc_train, 2)))\n",
    "print('testing accuracy: {}'.format(round(acc_test, 2)))\n",
    "\n",
    "## precision, recall, f1-score\n",
    "\n",
    "from sklearn.metrics import classification_report\n",
    "\n",
    "print(classification_report(y_true=y_test_bow1, y_pred=y_test_pred_bow1))\n",
    "\n",
    "#plot confusion matrix\n",
    "\n",
    "from sklearn.metrics import confusion_matrix\n",
    "\n",
    "cm = confusion_matrix(y_true=y_test_bow1, y_pred=y_test_pred_bow1) \n",
    "print(cm)"
   ]
  },
  {
   "cell_type": "markdown",
   "metadata": {},
   "source": [
    "# it seems we get the result same as not doing anything."
   ]
  },
  {
   "cell_type": "markdown",
   "metadata": {},
   "source": [
    "### This is my HW2. Thank you~"
   ]
  },
  {
   "cell_type": "code",
   "execution_count": null,
   "metadata": {},
   "outputs": [],
   "source": []
  }
 ],
 "metadata": {
  "kernelspec": {
   "display_name": "Python 3 (ipykernel)",
   "language": "python",
   "name": "python3"
  },
  "language_info": {
   "codemirror_mode": {
    "name": "ipython",
    "version": 3
   },
   "file_extension": ".py",
   "mimetype": "text/x-python",
   "name": "python",
   "nbconvert_exporter": "python",
   "pygments_lexer": "ipython3",
   "version": "3.8.10"
  },
  "varInspector": {
   "cols": {
    "lenName": 16,
    "lenType": 16,
    "lenVar": 40
   },
   "kernels_config": {
    "python": {
     "delete_cmd_postfix": "",
     "delete_cmd_prefix": "del ",
     "library": "var_list.py",
     "varRefreshCmd": "print(var_dic_list())"
    },
    "r": {
     "delete_cmd_postfix": ") ",
     "delete_cmd_prefix": "rm(",
     "library": "var_list.r",
     "varRefreshCmd": "cat(var_dic_list()) "
    }
   },
   "types_to_exclude": [
    "module",
    "function",
    "builtin_function_or_method",
    "instance",
    "_Feature"
   ],
   "window_display": false
  }
 },
 "nbformat": 4,
 "nbformat_minor": 4
}
